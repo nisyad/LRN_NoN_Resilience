{
 "cells": [
  {
   "cell_type": "code",
   "execution_count": 1,
   "metadata": {},
   "outputs": [],
   "source": [
    "import pandas as pd\n",
    "import numpy as np\n",
    "import yaml\n",
    "import copy\n",
    "import matplotlib\n",
    "import matplotlib.pyplot as plt\n",
    "import warnings\n",
    "import random\n",
    "import collections\n",
    "warnings.filterwarnings(\"ignore\")\n",
    "matplotlib.use('TkAgg')\n",
    "import networkx as nx\n",
    "%matplotlib inline"
   ]
  },
  {
   "cell_type": "code",
   "execution_count": 2,
   "metadata": {},
   "outputs": [
    {
     "data": {
      "text/plain": [
       "'/Users/nishant/Desktop/PNNL-2019/Flood_Failure'"
      ]
     },
     "execution_count": 2,
     "metadata": {},
     "output_type": "execute_result"
    }
   ],
   "source": [
    "pwd"
   ]
  },
  {
   "cell_type": "code",
   "execution_count": 3,
   "metadata": {},
   "outputs": [],
   "source": [
    "def import_network(path):\n",
    "    \"\"\"\n",
    "    path = path to network data\n",
    "    df = imported network data as a pandas dataframe\n",
    "    \"\"\"\n",
    "    \n",
    "    df = pd.read_csv(path, sep=\" \", \n",
    "                 header=None,\n",
    "                 names=['layer','node1','node2','weight'])\n",
    "    \n",
    "    return df\n",
    "\n",
    "\n",
    "def create_edge_list(df, n_layers):\n",
    "    \n",
    "    edges = []\n",
    "    for i in range(n_layers):\n",
    "        edges.append(list(zip(df[\"node1\"][df.layer==i+1], df[\"node2\"][df.layer==i+1])))\n",
    "    \n",
    "    return edges\n",
    "\n",
    "\n",
    "def calculate_gc_size(graph):\n",
    "    \"\"\"\n",
    "    gc = giant component\n",
    "    \"\"\"\n",
    "    \n",
    "    gc_size = [len(c) for c in sorted(nx.connected_components(graph), key=len, reverse=True)][0]\n",
    "    \n",
    "    return gc_size\n",
    "\n",
    "\n",
    "def calculate_diameter(graph):\n",
    "    return nx.diameter(graph)\n",
    "\n",
    "def normalize_gc_list(gc_list):\n",
    "    \n",
    "    return np.array(gc_list)/max(gc_list)"
   ]
  },
  {
   "cell_type": "code",
   "execution_count": 4,
   "metadata": {},
   "outputs": [],
   "source": [
    "if __name__ == \"__main__\":\n",
    "    \n",
    "    with open(\"config.yml\", 'r') as f:\n",
    "        config = yaml.safe_load(f)\n",
    "        path = config['path']\n",
    "        n_layers = config['n_layers']\n",
    "        df = import_network(path)\n",
    "        edges = create_edge_list(df, n_layers)\n",
    "        "
   ]
  },
  {
   "cell_type": "code",
   "execution_count": 5,
   "metadata": {},
   "outputs": [
    {
     "name": "stdout",
     "output_type": "stream",
     "text": [
      "312\n",
      "83\n",
      "46\n",
      "430\n"
     ]
    }
   ],
   "source": [
    "layer_1 = 1\n",
    "layer_2 = 2\n",
    "layer_3 = 3\n",
    "\n",
    "edge_list_1 = edges[layer_1-1]\n",
    "edge_list_2 = edges[layer_2-1]\n",
    "edge_list_3 = edges[layer_3-1]\n",
    "\n",
    "agg_edges = list(set(edge_list_1 + edge_list_2 + edge_list_3))\n",
    "\n",
    "\n",
    "print(len(edge_list_1))\n",
    "print(len(edge_list_2))\n",
    "print(len(edge_list_3))\n",
    "print(len(agg_edges))\n"
   ]
  },
  {
   "cell_type": "code",
   "execution_count": 6,
   "metadata": {},
   "outputs": [],
   "source": [
    "def node_list(df, layer):\n",
    "    \n",
    "    temp = list(set(df.node1[df.layer==layer]))\n",
    "    temp2 = list(set(df.node2[df.layer==layer]))\n",
    "    node_list = list(set(temp+temp2))\n",
    "    \n",
    "    return node_list"
   ]
  },
  {
   "cell_type": "code",
   "execution_count": 7,
   "metadata": {},
   "outputs": [
    {
     "name": "stdout",
     "output_type": "stream",
     "text": [
      "271\n",
      "83\n",
      "45\n"
     ]
    }
   ],
   "source": [
    "node_list_1 = node_list(df, layer_1)\n",
    "node_list_2 = node_list(df, layer_2)\n",
    "node_list_3 = node_list(df, layer_3)\n",
    "\n",
    "print(len(node_list_1))\n",
    "print(len(node_list_2))\n",
    "print(len(node_list_3))\n",
    "\n"
   ]
  },
  {
   "cell_type": "code",
   "execution_count": 8,
   "metadata": {},
   "outputs": [],
   "source": [
    "G1 = nx.Graph()\n",
    "G1.add_edges_from(edge_list_1)\n",
    "\n",
    "G2 = nx.Graph()\n",
    "G2.add_edges_from(edge_list_2)\n",
    "\n",
    "G3 = nx.Graph()\n",
    "G3.add_edges_from(edge_list_3)\n",
    "\n",
    "agg_G = nx.Graph()\n",
    "agg_G.add_edges_from(agg_edges)"
   ]
  },
  {
   "cell_type": "code",
   "execution_count": null,
   "metadata": {},
   "outputs": [],
   "source": []
  },
  {
   "cell_type": "code",
   "execution_count": 9,
   "metadata": {},
   "outputs": [],
   "source": [
    "# plt.figure(figsize=(20,15))\n",
    "# nx.draw(agg_G)\n",
    "# plt.title('Aggregated London Public Rail Transport Network', fontsize=24)\n",
    "# plt.savefig('Aggregated_Network.png', format='png')\n",
    "# plt.show()"
   ]
  },
  {
   "cell_type": "code",
   "execution_count": 10,
   "metadata": {},
   "outputs": [
    {
     "data": {
      "text/plain": [
       "369"
      ]
     },
     "execution_count": 10,
     "metadata": {},
     "output_type": "execute_result"
    }
   ],
   "source": [
    "G = agg_G\n",
    "edge_list = agg_edges\n",
    "\n",
    "node_list = list(range(len(list(G.nodes))))\n",
    "len(node_list)"
   ]
  },
  {
   "cell_type": "code",
   "execution_count": 11,
   "metadata": {},
   "outputs": [],
   "source": [
    "def calculate_gc_size(graph):\n",
    "    \"\"\"\n",
    "    gc = giant component\n",
    "    \"\"\"\n",
    "    \n",
    "    gc_size = [len(c) for c in sorted(nx.connected_components(graph), key=len, reverse=True)][0]\n",
    "    \n",
    "    return gc_size\n",
    "\n",
    "\n",
    "def calculate_diameter(graph):\n",
    "    \n",
    "    return nx.diameter(graph)\n",
    "\n",
    "\n",
    "def n_connected_components(graph):\n",
    "    \n",
    "    return nx.number_connected_components(graph)\n",
    "\n",
    "\n",
    "def normalize_gc_list(gc_list):\n",
    "    \n",
    "    return np.array(gc_list)/max(gc_list)"
   ]
  },
  {
   "cell_type": "code",
   "execution_count": 12,
   "metadata": {},
   "outputs": [
    {
     "name": "stdout",
     "output_type": "stream",
     "text": [
      "369\n"
     ]
    }
   ],
   "source": [
    "initial_gc_size = calculate_gc_size(G)\n",
    "print(initial_gc_size)"
   ]
  },
  {
   "cell_type": "code",
   "execution_count": 13,
   "metadata": {},
   "outputs": [],
   "source": [
    "\"\"\"\n",
    "\n",
    "#Create all sorted node lists here for removal/addition\n",
    "\n",
    "#DEGREE\n",
    "sorted_nodes_by_degree = sorted(G.degree, key=lambda x: x[1], reverse=True)\n",
    "sorted_nodes_by_degree = [i[0] for i in sorted_nodes_by_degree]\n",
    "\n",
    "\n",
    "#BETWEENNESS\n",
    "betweenness_c = nx.betweenness_centrality(G)\n",
    "temp = sorted(betweenness_c.items(), key=lambda kv: kv[1], reverse=True)\n",
    "sorted_nodes_by_betweenness = [i[0] for i in temp]\n",
    "\n",
    "\n",
    "#EIGENVALUE\n",
    "eigen_c = nx.eigenvector_centrality_numpy(G)\n",
    "temp = sorted(eigen_c.items(), key=lambda kv: kv[1], reverse=True)\n",
    "sorted_nodes_by_eigenc = [i[0] for i in temp]\n",
    "\n",
    "#CLOSENESS\n",
    "closeness_c = nx.closeness_centrality(G)\n",
    "temp = sorted(closeness_c.items(), key=lambda kv: kv[1], reverse=True)\n",
    "sorted_nodes_by_closeness = [i[0] for i in temp]\n",
    "\n",
    "#CLUSTERING\n",
    "clustering_c = nx.clustering(G)\n",
    "temp = sorted(clustering_c.items(), key=lambda kv: kv[1], reverse=True)\n",
    "sorted_nodes_by_clustering = [i[0] for i in temp]\n",
    "\n",
    "\n",
    "print(sorted_nodes_by_clustering)\n",
    "print('\\n', len(sorted_nodes_by_clustering))\n",
    "\n",
    "\"\"\";"
   ]
  },
  {
   "cell_type": "code",
   "execution_count": 14,
   "metadata": {},
   "outputs": [
    {
     "data": {
      "text/plain": [
       "'RANDOM'"
      ]
     },
     "execution_count": 14,
     "metadata": {},
     "output_type": "execute_result"
    }
   ],
   "source": [
    "\"\"\"#RANDOM\n",
    "\n",
    "node_list_copy = copy.deepcopy(node_list)\n",
    "random.shuffle(node_list_copy)\n",
    "sorted_nodes_by_random = node_list_copy\n",
    "print(len(sorted_nodes_by_random), '\\n')\n",
    "print(sorted_nodes_by_random)\n",
    "\"\"\";\n",
    "\n",
    "\"\"\"RANDOM\"\"\"\n",
    "# node_list_copy = copy.deepcopy(node_list)\n",
    "\n",
    "# sorted_nodes_by_random = []\n",
    "\n",
    "# for i in range(1000):\n",
    "#     sorted_nodes_by_random.append(random.sample(node_list_copy, len(node_list_copy)))\n"
   ]
  },
  {
   "cell_type": "code",
   "execution_count": 15,
   "metadata": {},
   "outputs": [],
   "source": [
    "\n",
    "def remove_nodes(G, nodes_to_remove, edge_list):\n",
    "\n",
    "    \"\"\"\n",
    "    nodes_to_remove: list\n",
    "\n",
    "    edge_list: for this layer the orginal list of tuples (edges)\n",
    "                e.g. [(1,77), (4,13)..]\n",
    "\n",
    "    returns list of GC sizes as the network fails and the graph remaining \n",
    "    \"\"\"\n",
    "\n",
    "    \n",
    "    \"\"\"initialize updated_edges list with original edge_list\"\"\"\n",
    "    updated_edges = copy.deepcopy(edge_list)\n",
    "    \n",
    "    \"\"\"initialize updated_G with orginial graph G\"\"\"\n",
    "    updated_G = copy.deepcopy(G)\n",
    "    initial_gc_size = calculate_gc_size(G)\n",
    "    \n",
    "    \"\"\"empty list which will capture gc size as the network fails\"\"\"\n",
    "    gc_list = []\n",
    "    #gc_list.append(initial_gc_size)\n",
    "    count = 0\n",
    "\n",
    "    for node in nodes_to_remove:\n",
    "        \n",
    "        updated_G.remove_edges_from(list(G.edges(node)))\n",
    "        \n",
    "        gc_list.append(calculate_gc_size(updated_G))\n",
    "        updated_G.remove_node(node)\n",
    "    \n",
    "        count +=1\n",
    "    \n",
    "    #else:\n",
    "     #   gc_list.append(0)\n",
    "    \n",
    "    return gc_list, updated_G, count\n",
    "\n",
    "\n",
    "\"\"\"\n",
    "def remove_nodes(G, nodes_to_remove, edge_list):\n",
    "\n",
    "   \n",
    "    nodes_to_remove: list\n",
    "\n",
    "    edge_list: orginal list of tuples (edges)\n",
    "                e.g. [(1,77), (4,13)..]\n",
    "\n",
    "    updated_edges: updated list of tuples\n",
    "\n",
    "   \n",
    "\n",
    "    #nodes_to_remove = sorted_nodes_by_degree\n",
    "    updated_edges = copy.deepcopy(edge_list)\n",
    "    updated_G = copy.deepcopy(G)\n",
    "    gc_list = []\n",
    "    count = 0\n",
    "\n",
    "    for node in nodes_to_remove:\n",
    "        for edge in edge_list:\n",
    "            if node in edge:\n",
    "                if edge in updated_edges:\n",
    "\n",
    "                    updated_edges.remove(edge)\n",
    "                    updated_G.remove_edge(*edge)\n",
    "\n",
    "        else:\n",
    "            gc_list.append(n_connected_components(updated_G))\n",
    "            #updated_G.remove_node(node)\n",
    "\n",
    "        count +=1\n",
    "    \n",
    "    #gc_list = np.array(gc_list)/max(gc_list)\n",
    "    \n",
    "    return gc_list, updated_G, count\n",
    "\n",
    "\"\"\";"
   ]
  },
  {
   "cell_type": "code",
   "execution_count": 16,
   "metadata": {},
   "outputs": [],
   "source": [
    "\"\"\"\n",
    "\n",
    "#FAILURE\n",
    "\n",
    "nodes_to_remove = sorted_nodes_by_degree\n",
    "gc_list_by_degree, updated_G, count = remove_nodes(G, nodes_to_remove, edge_list)\n",
    "\n",
    "nodes_to_remove = sorted_nodes_by_betweenness\n",
    "gc_list_by_betweenness, updated_G, count = remove_nodes(G, nodes_to_remove, edge_list)\n",
    "\n",
    "nodes_to_remove = sorted_nodes_by_eigenc\n",
    "gc_list_by_eigenc, updated_G, count = remove_nodes(G, nodes_to_remove, edge_list)\n",
    "\n",
    "nodes_to_remove = sorted_nodes_by_closeness\n",
    "gc_list_by_closeness, updated_G, count = remove_nodes(G, nodes_to_remove, edge_list)\n",
    "\n",
    "nodes_to_remove = sorted_nodes_by_clustering\n",
    "gc_list_by_clustering, updated_G, count = remove_nodes(G, nodes_to_remove, edge_list)\n",
    "\n",
    "\"\"\";"
   ]
  },
  {
   "cell_type": "code",
   "execution_count": 22,
   "metadata": {},
   "outputs": [
    {
     "data": {
      "text/plain": [
       "'RANDOM'"
      ]
     },
     "execution_count": 22,
     "metadata": {},
     "output_type": "execute_result"
    }
   ],
   "source": [
    "#FAILURE\n",
    "\n",
    "\"\"\"RANDOM\"\"\"\n",
    "\n",
    "# gc_list_by_random = []\n",
    "# updated_G_list = []\n",
    "\n",
    "# for i in range(1000):\n",
    "#     nodes_to_remove = sorted_nodes_by_random[i]\n",
    "#     gc_temp, updated_G_temp, count = remove_nodes(G, nodes_to_remove, edge_list)\n",
    "#     gc_list_by_random.append(normalize_gc_list(gc_temp))\n",
    "#     updated_G_list.append(updated_G_temp)\n"
   ]
  },
  {
   "cell_type": "code",
   "execution_count": 17,
   "metadata": {},
   "outputs": [
    {
     "name": "stdout",
     "output_type": "stream",
     "text": [
      "65\n"
     ]
    }
   ],
   "source": [
    "#FAILURE - FOODS\n",
    "\n",
    "#aggregate \n",
    "node_list_floods = [106, 6, 221, 345, 35, 180, 56, 69, 343, 44, 261, 57, 102, 214, 70, \n",
    "                    176, 277, 257, 351, 90, 105, 132, 172, 316, 195, 202, 203, 349, 328, \n",
    "                    241, 319, 337, 103, 333, 129, 254, 218, 352, 347, 12, 65, 290, 324, 50, \n",
    "                    51, 325, 146, 66, 104, 239, 107, 108, 142, 323, 136, 137, 256, 143, 144, \n",
    "                    145, 154, 197, 155, 269, 291]\n",
    "\n",
    "#layer 1\n",
    "#node_list_floods = [106, 6,221,345,35,180,56,69,343,44,261,57,102,214,70,176,277,257,351,90,105,132,172,316,195,202,203,349,328,241,319]\n",
    "\n",
    "#layer 2\n",
    "#node_list_floods = [337, 103, 333, 129, 254, 218]\n",
    "\n",
    "#layer 3\n",
    "#node_list_floods = [352, 347, 12, 65, 290, 324,50,51,325,146,66,104,239,107,108,142,323,136,137,256,143,144,145,154,197,155,269,291]\n",
    "\n",
    "\n",
    "print(len(node_list_floods))\n",
    "\n",
    "sorted_nodes_by_floods = []\n",
    "\n",
    "iter = 1\n",
    "\n",
    "for i in range(iter):\n",
    "    sorted_nodes_by_floods.append(random.sample(node_list_floods, len(node_list_floods)))\n",
    "\n",
    "\n",
    "gc_list_by_floods = []\n",
    "updated_G_list = []\n",
    "\n",
    "for i in range(iter):\n",
    "    nodes_to_remove = sorted_nodes_by_floods[i]\n",
    "    gc_temp, updated_G_temp, count = remove_nodes(G, nodes_to_remove, edge_list)\n",
    "    gc_list_by_floods.append(normalize_gc_list(gc_temp))\n",
    "    updated_G_list.append(updated_G_temp)\n"
   ]
  },
  {
   "cell_type": "code",
   "execution_count": 18,
   "metadata": {},
   "outputs": [
    {
     "data": {
      "text/plain": [
       "65"
      ]
     },
     "execution_count": 18,
     "metadata": {},
     "output_type": "execute_result"
    }
   ],
   "source": [
    "len(gc_list_by_floods[0])"
   ]
  },
  {
   "cell_type": "code",
   "execution_count": 19,
   "metadata": {},
   "outputs": [],
   "source": [
    "def add_nodes(G, updated_G, nodes_to_add, edge_list):\n",
    "    \n",
    "    \"\"\"re: recovery\n",
    "    \"\"\"\n",
    "    \n",
    "    \"\"\"initialize the graph object with the graph (updated_G) remaining post failure\"\"\"\n",
    "    re_updated_G = copy.deepcopy(updated_G)\n",
    "    edges_to_add = copy.deepcopy(edge_list)\n",
    "     \n",
    "    \"\"\"empty list which will capture gc size as the network recovers\"\"\"\n",
    "    re_gc_list = []\n",
    "    count = 0\n",
    "    initial_gc_size = calculate_gc_size(G)\n",
    "    \n",
    "    #re_gc_list.append(0)\n",
    "    \n",
    "    for node in nodes_to_add:\n",
    "        \n",
    "        re_updated_G.add_node(node)\n",
    "        re_updated_G.add_edges_from(list(G.edges(node)))\n",
    "        re_gc_list.append(calculate_gc_size(re_updated_G))\n",
    "    \n",
    "    \n",
    "    #re_gc_list.append(initial_gc_size)\n",
    "    \n",
    "    return re_gc_list, re_updated_G, count\n",
    "\n",
    "\n",
    "\"\"\"\n",
    "def add_nodes(G, updated_G, nodes_to_add, edge_list):\n",
    "    \n",
    "    \n",
    "    re_updated_G = copy.deepcopy(updated_G)\n",
    "    edges_to_add = copy.deepcopy(edge_list)\n",
    "     \n",
    "    re_gc_list = []\n",
    "    count = 0\n",
    "\n",
    "    for node in nodes_to_add:\n",
    "\n",
    "        re_updated_G.add_node(node)\n",
    "\n",
    "        for edge in edges_to_add:\n",
    "            if node in edge:\n",
    "                re_updated_G.add_edge(*edge)\n",
    "\n",
    "        else:\n",
    "            re_gc_list.append(n_connected_components(re_updated_G))\n",
    "            count +=1\n",
    "               \n",
    "    #re_gc_list = np.array(re_gc_list)/max(re_gc_list)\n",
    "    \n",
    "    return re_gc_list, re_updated_G, count\n",
    "\n",
    "\"\"\";"
   ]
  },
  {
   "cell_type": "code",
   "execution_count": 26,
   "metadata": {},
   "outputs": [],
   "source": [
    "\"\"\"\n",
    "#RECOVERY\n",
    "\n",
    "\n",
    "nodes_to_add = sorted_nodes_by_degree\n",
    "re_gc_list_by_degree, re_updated_G, count = add_nodes(updated_G, nodes_to_add, edge_list)\n",
    "\n",
    "nodes_to_add = sorted_nodes_by_betweenness\n",
    "re_gc_list_by_betweenness, re_updated_G, count = add_nodes(updated_G, nodes_to_add, edge_list)\n",
    "\n",
    "nodes_to_add = sorted_nodes_by_eigenc\n",
    "re_gc_list_by_eigenc, re_updated_G, count = add_nodes(updated_G, nodes_to_add, edge_list)\n",
    "\n",
    "nodes_to_add = sorted_nodes_by_closeness\n",
    "re_gc_list_by_closeness, re_updated_G, count = add_nodes(updated_G, nodes_to_add, edge_list)\n",
    "\n",
    "nodes_to_add = sorted_nodes_by_clustering\n",
    "re_gc_list_by_clustering, re_updated_G, count = add_nodes(updated_G, nodes_to_add, edge_list)\n",
    "\"\"\";"
   ]
  },
  {
   "cell_type": "code",
   "execution_count": 27,
   "metadata": {},
   "outputs": [],
   "source": [
    "#RECOVERY - RANDOM\n",
    "\n",
    "#Nodes to Add\n",
    "\n",
    "# re_gc_list_by_random = []\n",
    "# re_updated_G_list = []\n",
    "\n",
    "# for i in range(1000):\n",
    "#     nodes_to_add = sorted_nodes_by_random[i]\n",
    "#     re_gc_temp, re_updated_G_temp, count = add_nodes(G, updated_G_list[i], nodes_to_add, edge_list)\n",
    "#     re_gc_list_by_random.append(normalize_gc_list(re_gc_temp))\n",
    "#     re_updated_G_list.append(updated_G_temp)\n"
   ]
  },
  {
   "cell_type": "code",
   "execution_count": 20,
   "metadata": {},
   "outputs": [],
   "source": [
    "#RECOVERY - FLOODS\n",
    "\n",
    "#Nodes to Add\n",
    "\n",
    "re_gc_list_by_floods = []\n",
    "re_updated_G_list = []\n",
    "\n",
    "for i in range(iter):\n",
    "    nodes_to_add = sorted_nodes_by_floods[i]\n",
    "    re_gc_temp, re_updated_G_temp, count = add_nodes(G, updated_G_list[i], nodes_to_add, edge_list)\n",
    "    re_gc_list_by_floods.append(normalize_gc_list(re_gc_temp))\n",
    "    re_updated_G_list.append(updated_G_temp)\n"
   ]
  },
  {
   "cell_type": "code",
   "execution_count": 21,
   "metadata": {},
   "outputs": [
    {
     "data": {
      "text/plain": [
       "65"
      ]
     },
     "execution_count": 21,
     "metadata": {},
     "output_type": "execute_result"
    }
   ],
   "source": [
    "len(re_gc_list_by_floods[0])"
   ]
  },
  {
   "cell_type": "code",
   "execution_count": 22,
   "metadata": {},
   "outputs": [],
   "source": [
    "\"\"\"\n",
    "\n",
    "gc_list_by_random.insert(0,1)\n",
    "#gc_list_by_random.append(0)\n",
    "#gc_list_by_random = normalize_gc_list(gc_list_by_random)\n",
    "\n",
    "\n",
    "gc_list_by_degree.insert(0,1)\n",
    "#gc_list_by_degree.append(0)\n",
    "#gc_list_by_degree = normalize_gc_list(gc_list_by_degree)\n",
    "\n",
    "gc_list_by_betweenness.insert(0,1)\n",
    "#gc_list_by_betweenness.append(0)\n",
    "#gc_list_by_betweenness = normalize_gc_list(gc_list_by_betweenness)\n",
    "\n",
    "gc_list_by_eigenc.insert(0,1)\n",
    "#gc_list_by_eigenc.append(0)\n",
    "#gc_list_by_eigenc = normalize_gc_list(gc_list_by_eigenc)\n",
    "\n",
    "gc_list_by_closeness.insert(0,1)\n",
    "#gc_list_by_closeness.append(0)\n",
    "#gc_list_by_closeness = normalize_gc_list(gc_list_by_closeness)\n",
    "\n",
    "gc_list_by_clustering.insert(0,1)\n",
    "#gc_list_by_clustering.append(0)\n",
    "#gc_list_by_clustering = normalize_gc_list(gc_list_by_clustering)\n",
    "\n",
    "#print(gc_list_by_)\n",
    "\n",
    "\n",
    "\"\"\";"
   ]
  },
  {
   "cell_type": "code",
   "execution_count": 23,
   "metadata": {},
   "outputs": [],
   "source": [
    "\"\"\"\n",
    "#re_gc_list_by_random.insert(0,0)\n",
    "re_gc_list_by_random.append(1)\n",
    "#re_gc_list_by_random = normalize_gc_list(re_gc_list_by_random)\n",
    "\n",
    "\n",
    "#re_gc_list_by_degree.insert(0,0)\n",
    "re_gc_list_by_degree.append(1)\n",
    "#re_gc_list_by_degree = normalize_gc_list(re_gc_list_by_degree)\n",
    "\n",
    "#re_gc_list_by_betweenness.insert(0,0)\n",
    "re_gc_list_by_betweenness.append(1)\n",
    "#re_gc_list_by_betweenness = normalize_gc_list(re_gc_list_by_betweenness)\n",
    "\n",
    "#re_gc_list_by_eigenc.insert(0,0)\n",
    "re_gc_list_by_eigenc.append(1)\n",
    "#re_gc_list_by_eigenc = normalize_gc_list(re_gc_list_by_eigenc)\n",
    "\n",
    "#re_gc_list_by_closeness.insert(0,0)\n",
    "re_gc_list_by_closeness.append(1)\n",
    "#re_gc_list_by_closeness = normalize_gc_list(re_gc_list_by_closeness)\n",
    "\n",
    "#re_gc_list_by_clustering.insert(0,0)\n",
    "re_gc_list_by_clustering.append(1)\n",
    "#re_gc_list_by_clustering = normalize_gc_list(re_gc_list_by_clustering)\n",
    "\n",
    "\"\"\";"
   ]
  },
  {
   "cell_type": "code",
   "execution_count": 24,
   "metadata": {},
   "outputs": [],
   "source": [
    "\"\"\"\n",
    "\n",
    "#EXTRACT GC SIZE LISTS\n",
    "\n",
    "np.save('agg_gc_list_by_random', gc_list_by_random)\n",
    "np.save('agg_re_gc_list_by_random', re_gc_list_by_random)\n",
    "\n",
    "np.save('agg_gc_list_by_degree', gc_list_by_degree)\n",
    "np.save('agg_re_gc_list_by_degree', re_gc_list_by_degree)\n",
    "\n",
    "np.save('agg_gc_list_by_betweenness', gc_list_by_betweenness)\n",
    "np.save('agg_re_gc_list_by_betweenness', re_gc_list_by_betweenness)\n",
    "\n",
    "np.save('agg_gc_list_by_eigenc', gc_list_by_eigenc)\n",
    "np.save('agg_re_gc_list_by_eigenc', re_gc_list_by_eigenc)\n",
    "\n",
    "np.save('agg_gc_list_by_closeness', gc_list_by_closeness)\n",
    "np.save('agg_re_gc_list_by_closeness', re_gc_list_by_closeness)\n",
    "\n",
    "np.save('agg_gc_list_by_clustering', gc_list_by_clustering)\n",
    "np.save('agg_re_gc_list_by_clustering', re_gc_list_by_clustering)\n",
    "\n",
    "\"\"\";"
   ]
  },
  {
   "cell_type": "code",
   "execution_count": 25,
   "metadata": {},
   "outputs": [],
   "source": [
    "#Ensemble Mean - Random\n",
    "\n",
    "# gc_array_by_random = np.array(gc_list_by_random)\n",
    "# re_gc_array_by_random = np.array(re_gc_list_by_random)\n",
    "\n",
    "\n",
    "# gc_by_random_mean = np.mean(gc_array_by_random, axis=0)\n",
    "# re_gc_by_random_mean = np.mean(re_gc_array_by_random, axis=0)\n",
    "\n"
   ]
  },
  {
   "cell_type": "code",
   "execution_count": 26,
   "metadata": {},
   "outputs": [],
   "source": [
    "#Ensemble Mean - Floods\n",
    "\n",
    "gc_array_by_floods = np.array(gc_list_by_floods)\n",
    "re_gc_array_by_floods = np.array(re_gc_list_by_floods)\n",
    "\n",
    "\n",
    "gc_by_floods_mean = np.mean(gc_array_by_floods, axis=0)\n",
    "re_gc_by_floods_mean = np.mean(re_gc_array_by_floods, axis=0)\n",
    "\n"
   ]
  },
  {
   "cell_type": "code",
   "execution_count": 27,
   "metadata": {},
   "outputs": [],
   "source": [
    "#Saving All Interations\n",
    "\n",
    "# np.save('agg_gc_list_by_floods', gc_array_by_floods)\n",
    "# np.save('agg_re_gc_list_by_floods', re_gc_array_by_floods)\n",
    "\n"
   ]
  },
  {
   "cell_type": "code",
   "execution_count": null,
   "metadata": {},
   "outputs": [],
   "source": []
  },
  {
   "cell_type": "code",
   "execution_count": 28,
   "metadata": {},
   "outputs": [],
   "source": [
    "#Saving Ensemnle Means\n",
    "\n",
    "# np.save('agg_gc_mean_by_floods', gc_by_floods_mean)\n",
    "# np.save('agg_re_gc_mean_by_floods', re_gc_by_floods_mean)"
   ]
  },
  {
   "cell_type": "code",
   "execution_count": null,
   "metadata": {},
   "outputs": [],
   "source": []
  },
  {
   "cell_type": "code",
   "execution_count": 29,
   "metadata": {},
   "outputs": [],
   "source": [
    "\n",
    "#np.save('agg_gc_list_by_random', gc_by_random_mean)\n",
    "#np.save('agg_re_gc_list_by_random', re_gc_by_random_mean)"
   ]
  },
  {
   "cell_type": "code",
   "execution_count": null,
   "metadata": {},
   "outputs": [],
   "source": [
    "\n",
    "\n"
   ]
  },
  {
   "cell_type": "code",
   "execution_count": null,
   "metadata": {},
   "outputs": [],
   "source": []
  },
  {
   "cell_type": "code",
   "execution_count": 30,
   "metadata": {},
   "outputs": [
    {
     "name": "stdout",
     "output_type": "stream",
     "text": [
      "31\n"
     ]
    },
    {
     "data": {
      "text/plain": [
       "65"
      ]
     },
     "execution_count": 30,
     "metadata": {},
     "output_type": "execute_result"
    }
   ],
   "source": [
    "l1_node_frac = np.arange(31)\n",
    "l2_node_frac = np.arange(6)\n",
    "l3_node_frac = np.arange(28)\n",
    "agg_node_frac = np.arange(65)\n",
    "\n",
    "print(len(l1_node_frac))\n",
    "len(agg_node_frac)\n",
    "\n"
   ]
  },
  {
   "cell_type": "code",
   "execution_count": 32,
   "metadata": {},
   "outputs": [
    {
     "name": "stdout",
     "output_type": "stream",
     "text": [
      "100\n",
      "100\n",
      "100\n"
     ]
    }
   ],
   "source": [
    "#LOAD DATA FOR PLOTTING\n",
    "\n",
    "#agg_gc_list_by_floods = np.load('agg_gc_list_by_floods.npy')\n",
    "#agg_gc_mean_by_floods = np.load('agg_gc_mean_by_floods.npy')\n",
    "#print(len(agg_gc_list_by_floods))\n",
    "\n",
    "l1_gc_list_by_floods = np.load('l1_gc_list_by_floods.npy')\n",
    "l1_gc_mean_by_floods = np.load('l1_gc_mean_by_floods.npy')\n",
    "print(len(l1_gc_list_by_floods))\n",
    "\n",
    "l2_gc_list_by_floods = np.load('l2_gc_list_by_floods.npy')\n",
    "l2_gc_mean_by_floods = np.load('l2_gc_mean_by_floods.npy')\n",
    "print(len(l2_gc_list_by_floods))\n",
    "\n",
    "l3_gc_list_by_floods = np.load('l3_gc_list_by_floods.npy')\n",
    "l3_gc_mean_by_floods = np.load('l3_gc_mean_by_floods.npy')\n",
    "print(len(l3_gc_list_by_floods))\n",
    "\n",
    "\n",
    "\n"
   ]
  },
  {
   "cell_type": "code",
   "execution_count": null,
   "metadata": {},
   "outputs": [],
   "source": []
  },
  {
   "cell_type": "code",
   "execution_count": 173,
   "metadata": {},
   "outputs": [
    {
     "data": {
      "image/png": "[encoded data removed]",
      "text/plain": [
       "<Figure size 936x720 with 4 Axes>"
      ]
     },
     "metadata": {
      "needs_background": "light"
     },
     "output_type": "display_data"
    }
   ],
   "source": [
    "plt.figure(figsize=(13,10))\n",
    "\n",
    "for i in range(100):\n",
    "    \n",
    "    plt.subplot(2,2,1)\n",
    "    plt.plot(l1_node_frac, l1_gc_list_by_floods[i], 's', alpha=0.01)\n",
    "    plt.plot(l1_node_frac, l1_gc_mean_by_floods)\n",
    "    \n",
    "    #plt.xlabel('Number of Nodes Affected', fontsize=12, labelpad=10)\n",
    "    plt.ylabel('Fraction of Initial Giant Component Size', fontsize=11, labelpad=10)\n",
    "    plt.title('Layer 1: Underground')\n",
    "    plt.ylim([0,1])\n",
    "    plt.margins(x=0, y=0)\n",
    "    \n",
    "    plt.subplot(2,2,2)\n",
    "    plt.plot(l2_node_frac, l2_gc_list_by_floods[i],'s', alpha=0.05)\n",
    "    plt.plot(l2_node_frac, l2_gc_mean_by_floods)\n",
    "    \n",
    "    #plt.xlabel('Number of Nodes Affected', fontsize=12, labelpad=10)\n",
    "    #plt.ylabel('Fraction of Initial Giant Component Size', fontsize=12, labelpad=10)\n",
    "    plt.title('Layer 2: Overground')\n",
    "    plt.ylim([0,1])\n",
    "    plt.margins(x=0, y=0)\n",
    "    \n",
    "    \n",
    "    plt.subplot(2,2,3)\n",
    "    plt.plot(l3_node_frac, l3_gc_list_by_floods[i],'s', alpha=0.01)\n",
    "    plt.plot(l3_node_frac, l3_gc_mean_by_floods)\n",
    "    \n",
    "    plt.xlabel('Number of Nodes Affected by Flood', fontsize=11, labelpad=10)\n",
    "    plt.ylabel('Fraction of Initial Giant Component Size', fontsize=11, labelpad=10)\n",
    "    plt.title('Layer 3: DLR')\n",
    "    plt.ylim([0,1])\n",
    "    plt.margins(x=0, y=0)\n",
    "    \n",
    "    \n",
    "    plt.subplot(2,2,4)\n",
    "    plt.plot(agg_node_frac, agg_gc_list_by_floods[i],'s', alpha=0.005)\n",
    "    plt.plot(agg_node_frac, agg_gc_mean_by_floods)\n",
    "    \n",
    "    plt.xlabel('Number of Nodes Affected by Flood', fontsize=11, labelpad=10)\n",
    "    #plt.ylabel('Fraction of Initial Giant Component Size', fontsize=12, labelpad=10)\n",
    "    plt.title('Multiplex (all layers)')\n",
    "    plt.ylim([0,1])\n",
    "    plt.margins(x=0, y=0)\n",
    "    \n",
    "\n",
    "\n",
    "\n",
    "\n",
    "#plt.subplots_adjust(wspace=0)\n",
    "plt.suptitle('100-Year Flood Induced Failure (100 ensembles)', y=0.94, fontsize='14')\n",
    "#plt.savefig('london-flood-ensemble.pdf')\n",
    "plt.show()"
   ]
  },
  {
   "cell_type": "code",
   "execution_count": 176,
   "metadata": {},
   "outputs": [
    {
     "data": {
      "text/plain": [
       "0.2662714649838209"
      ]
     },
     "execution_count": 176,
     "metadata": {},
     "output_type": "execute_result"
    }
   ],
   "source": [
    "1-l2_gc_mean_by_floods[-1]"
   ]
  },
  {
   "cell_type": "code",
   "execution_count": null,
   "metadata": {},
   "outputs": [],
   "source": []
  },
  {
   "cell_type": "code",
   "execution_count": null,
   "metadata": {},
   "outputs": [],
   "source": []
  }
 ],
 "metadata": {
  "kernelspec": {
   "display_name": "Python 3",
   "language": "python",
   "name": "python3"
  },
  "language_info": {
   "codemirror_mode": {
    "name": "ipython",
    "version": 3
   },
   "file_extension": ".py",
   "mimetype": "text/x-python",
   "name": "python",
   "nbconvert_exporter": "python",
   "pygments_lexer": "ipython3",
   "version": "3.7.3"
  }
 },
 "nbformat": 4,
 "nbformat_minor": 4
}
