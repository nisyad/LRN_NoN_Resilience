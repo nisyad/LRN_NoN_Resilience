{
 "cells": [
  {
   "cell_type": "code",
   "execution_count": 1,
   "metadata": {},
   "outputs": [],
   "source": [
    "import pandas as pd\n",
    "import numpy as np\n",
    "import yaml\n",
    "import copy\n",
    "import matplotlib\n",
    "import matplotlib.pyplot as plt\n",
    "import warnings\n",
    "import random\n",
    "import collections\n",
    "warnings.filterwarnings(\"ignore\")\n",
    "matplotlib.use('TkAgg')\n",
    "import networkx as nx\n",
    "%matplotlib inline"
   ]
  },
  {
   "cell_type": "code",
   "execution_count": 2,
   "metadata": {},
   "outputs": [
    {
     "data": {
      "text/plain": [
       "'/Users/nishant/Desktop/PNNL-2019/Flood_Failure'"
      ]
     },
     "execution_count": 2,
     "metadata": {},
     "output_type": "execute_result"
    }
   ],
   "source": [
    "pwd"
   ]
  },
  {
   "cell_type": "code",
   "execution_count": 3,
   "metadata": {},
   "outputs": [],
   "source": [
    "def import_network(path):\n",
    "    \"\"\"\n",
    "    path = path to network data\n",
    "    df = imported network data as a pandas dataframe\n",
    "    \"\"\"\n",
    "    \n",
    "    df = pd.read_csv(path, sep=\" \", \n",
    "                 header=None,\n",
    "                 names=['layer','node1','node2','weight'])\n",
    "    \n",
    "    return df\n",
    "\n",
    "\n",
    "def create_edge_list(df, n_layers):\n",
    "    \n",
    "    edges = []\n",
    "    for i in range(n_layers):\n",
    "        edges.append(list(zip(df[\"node1\"][df.layer==i+1], df[\"node2\"][df.layer==i+1])))\n",
    "    \n",
    "    return edges\n",
    "\n",
    "\n",
    "def calculate_gc_size(graph):\n",
    "    \"\"\"\n",
    "    gc = giant component\n",
    "    \"\"\"\n",
    "    \n",
    "    gc_size = [len(c) for c in sorted(nx.connected_components(graph), key=len, reverse=True)][0]\n",
    "    \n",
    "    return gc_size\n",
    "\n",
    "\n",
    "def calculate_diameter(graph):\n",
    "    return nx.diameter(graph)\n",
    "\n",
    "def normalize_gc_list(gc_list):\n",
    "    \n",
    "    return np.array(gc_list)/max(gc_list)"
   ]
  },
  {
   "cell_type": "code",
   "execution_count": 4,
   "metadata": {},
   "outputs": [],
   "source": [
    "if __name__ == \"__main__\":\n",
    "    \n",
    "    with open(\"config.yml\", 'r') as f:\n",
    "        config = yaml.safe_load(f)\n",
    "        path = config['path']\n",
    "        n_layers = config['n_layers']\n",
    "        df = import_network(path)\n",
    "        edges = create_edge_list(df, n_layers)\n",
    "        "
   ]
  },
  {
   "cell_type": "code",
   "execution_count": 5,
   "metadata": {},
   "outputs": [
    {
     "name": "stdout",
     "output_type": "stream",
     "text": [
      "312\n",
      "83\n",
      "46\n"
     ]
    }
   ],
   "source": [
    "layer_1 = 1\n",
    "layer_2 = 2\n",
    "layer_3 = 3\n",
    "\n",
    "edge_list_1 = edges[layer_1-1]\n",
    "edge_list_2 = edges[layer_2-1]\n",
    "edge_list_3 = edges[layer_3-1]\n",
    "\n",
    "\n",
    "print(len(edge_list_1))\n",
    "print(len(edge_list_2))\n",
    "print(len(edge_list_3))\n"
   ]
  },
  {
   "cell_type": "code",
   "execution_count": 6,
   "metadata": {},
   "outputs": [],
   "source": [
    "def node_list(df, layer):\n",
    "    \n",
    "    temp = list(set(df.node1[df.layer==layer]))\n",
    "    temp2 = list(set(df.node2[df.layer==layer]))\n",
    "    node_list = list(set(temp+temp2))\n",
    "    \n",
    "    return node_list"
   ]
  },
  {
   "cell_type": "code",
   "execution_count": 7,
   "metadata": {},
   "outputs": [
    {
     "name": "stdout",
     "output_type": "stream",
     "text": [
      "271\n",
      "83\n",
      "45\n"
     ]
    }
   ],
   "source": [
    "node_list_1 = node_list(df, layer_1)\n",
    "node_list_2 = node_list(df, layer_2)\n",
    "node_list_3 = node_list(df, layer_3)\n",
    "\n",
    "print(len(node_list_1))\n",
    "print(len(node_list_2))\n",
    "print(len(node_list_3))\n",
    "\n"
   ]
  },
  {
   "cell_type": "code",
   "execution_count": 8,
   "metadata": {},
   "outputs": [],
   "source": [
    "G1 = nx.Graph()\n",
    "G1.add_edges_from(edge_list_1)\n",
    "\n",
    "G2 = nx.Graph()\n",
    "G2.add_edges_from(edge_list_2)\n",
    "\n",
    "G3 = nx.Graph()\n",
    "G3.add_edges_from(edge_list_3)\n",
    "\n",
    "\n",
    "#plt.figure(figsize=(20,12))\n",
    "#nx.draw(G)"
   ]
  },
  {
   "cell_type": "code",
   "execution_count": 9,
   "metadata": {},
   "outputs": [],
   "source": [
    "agg_edges = edge_list_1 + edge_list_2 + edge_list_3"
   ]
  },
  {
   "cell_type": "code",
   "execution_count": 10,
   "metadata": {},
   "outputs": [
    {
     "data": {
      "text/plain": [
       "441"
      ]
     },
     "execution_count": 10,
     "metadata": {},
     "output_type": "execute_result"
    }
   ],
   "source": [
    "len(agg_edges)"
   ]
  },
  {
   "cell_type": "code",
   "execution_count": 11,
   "metadata": {},
   "outputs": [
    {
     "data": {
      "text/plain": [
       "430"
      ]
     },
     "execution_count": 11,
     "metadata": {},
     "output_type": "execute_result"
    }
   ],
   "source": [
    "agg_edges = list(set(agg_edges))    #take out common edges across layers\n",
    "len(agg_edges)"
   ]
  },
  {
   "cell_type": "code",
   "execution_count": 12,
   "metadata": {},
   "outputs": [],
   "source": [
    "agg_G = nx.Graph()\n",
    "agg_G.add_edges_from(agg_edges)"
   ]
  },
  {
   "cell_type": "code",
   "execution_count": 13,
   "metadata": {},
   "outputs": [
    {
     "data": {
      "text/plain": [
       "369"
      ]
     },
     "execution_count": 13,
     "metadata": {},
     "output_type": "execute_result"
    }
   ],
   "source": [
    "\"Which Graph to Analyze\"\n",
    "\n",
    "G = agg_G\n",
    "edge_list = agg_edges\n",
    "\n",
    "node_list = list(range(len(list(G.nodes))))\n",
    "len(node_list)"
   ]
  },
  {
   "cell_type": "code",
   "execution_count": 14,
   "metadata": {},
   "outputs": [],
   "source": [
    "def calculate_gc_size(graph):\n",
    "    \"\"\"\n",
    "    gc = giant component\n",
    "    \"\"\"\n",
    "    \n",
    "    gc_size = [len(c) for c in sorted(nx.connected_components(graph), key=len, reverse=True)][0]\n",
    "    \n",
    "    return gc_size\n",
    "\n",
    "\n",
    "def calculate_diameter(graph):\n",
    "    \n",
    "    return nx.diameter(graph)\n",
    "\n",
    "\n",
    "def n_connected_components(graph):\n",
    "    \n",
    "    return nx.number_connected_components(graph)\n",
    "\n",
    "\n",
    "def normalize_gc_list(gc_list):\n",
    "    \n",
    "    return np.array(gc_list)/max(gc_list)"
   ]
  },
  {
   "cell_type": "code",
   "execution_count": 15,
   "metadata": {},
   "outputs": [
    {
     "name": "stdout",
     "output_type": "stream",
     "text": [
      "369\n"
     ]
    }
   ],
   "source": [
    "initial_gc_size = calculate_gc_size(G)\n",
    "print(initial_gc_size)"
   ]
  },
  {
   "cell_type": "code",
   "execution_count": 16,
   "metadata": {},
   "outputs": [],
   "source": [
    "\"\"\"\n",
    "\n",
    "#Create all sorted node lists here for removal/addition\n",
    "\n",
    "#DEGREE\n",
    "sorted_nodes_by_degree = sorted(G.degree, key=lambda x: x[1], reverse=True)\n",
    "sorted_nodes_by_degree = [i[0] for i in sorted_nodes_by_degree]\n",
    "\n",
    "\n",
    "#BETWEENNESS\n",
    "betweenness_c = nx.betweenness_centrality(G)\n",
    "temp = sorted(betweenness_c.items(), key=lambda kv: kv[1], reverse=True)\n",
    "sorted_nodes_by_betweenness = [i[0] for i in temp]\n",
    "\n",
    "\n",
    "#EIGENVALUE\n",
    "eigen_c = nx.eigenvector_centrality_numpy(G)\n",
    "temp = sorted(eigen_c.items(), key=lambda kv: kv[1], reverse=True)\n",
    "sorted_nodes_by_eigenc = [i[0] for i in temp]\n",
    "\n",
    "#CLOSENESS\n",
    "closeness_c = nx.closeness_centrality(G)\n",
    "temp = sorted(closeness_c.items(), key=lambda kv: kv[1], reverse=True)\n",
    "sorted_nodes_by_closeness = [i[0] for i in temp]\n",
    "\n",
    "#CLUSTERING\n",
    "clustering_c = nx.clustering(G)\n",
    "temp = sorted(clustering_c.items(), key=lambda kv: kv[1], reverse=True)\n",
    "sorted_nodes_by_clustering = [i[0] for i in temp]\n",
    "\n",
    "\n",
    "print(sorted_nodes_by_clustering)\n",
    "print('\\n', len(sorted_nodes_by_clustering))\n",
    "\n",
    "\"\"\";"
   ]
  },
  {
   "cell_type": "code",
   "execution_count": 17,
   "metadata": {},
   "outputs": [
    {
     "name": "stdout",
     "output_type": "stream",
     "text": [
      "65\n"
     ]
    }
   ],
   "source": [
    "\n",
    "\"\"\"RANDOM\"\"\"\n",
    "node_list_copy = copy.deepcopy(node_list)\n",
    "\n",
    "sorted_nodes_by_random = []\n",
    "\n",
    "for i in range(100):\n",
    "    sorted_nodes_by_random.append(random.sample(node_list_copy, 65))\n",
    "    \n",
    "print(len(sorted_nodes_by_random[0]))\n",
    "    "
   ]
  },
  {
   "cell_type": "code",
   "execution_count": 18,
   "metadata": {},
   "outputs": [],
   "source": [
    "\n",
    "def remove_nodes(G, nodes_to_remove, edge_list):\n",
    "\n",
    "    \"\"\"\n",
    "    nodes_to_remove: list\n",
    "\n",
    "    edge_list: for this layer the orginal list of tuples (edges)\n",
    "                e.g. [(1,77), (4,13)..]\n",
    "\n",
    "    returns list of GC sizes as the network fails and the graph remaining \n",
    "    \"\"\"\n",
    "\n",
    "    \n",
    "    \"\"\"initialize updated_edges list with original edge_list\"\"\"\n",
    "    updated_edges = copy.deepcopy(edge_list)\n",
    "    \n",
    "    \"\"\"initialize updated_G with orginial graph G\"\"\"\n",
    "    updated_G = copy.deepcopy(G)\n",
    "    initial_gc_size = calculate_gc_size(G)\n",
    "    \n",
    "    \"\"\"empty list which will capture gc size as the network fails\"\"\"\n",
    "    gc_list = []\n",
    "    gc_list.append(initial_gc_size)\n",
    "    count = 0\n",
    "\n",
    "    for node in nodes_to_remove:\n",
    "        \n",
    "        updated_G.remove_edges_from(list(G.edges(node)))\n",
    "        \n",
    "        gc_list.append(calculate_gc_size(updated_G))\n",
    "        updated_G.remove_node(node)\n",
    "    \n",
    "        count +=1\n",
    "    \n",
    "    if len(nodes_to_remove) == len(G.nodes()):\n",
    "        gc_list.append(0)\n",
    "    \n",
    "    return gc_list, updated_G, count\n",
    "\n",
    "\n"
   ]
  },
  {
   "cell_type": "code",
   "execution_count": 19,
   "metadata": {},
   "outputs": [],
   "source": [
    "\"\"\"\n",
    "\n",
    "#FAILURE\n",
    "\n",
    "nodes_to_remove = sorted_nodes_by_degree\n",
    "gc_list_by_degree, updated_G, count = remove_nodes(G, nodes_to_remove, edge_list)\n",
    "\n",
    "nodes_to_remove = sorted_nodes_by_betweenness\n",
    "gc_list_by_betweenness, updated_G, count = remove_nodes(G, nodes_to_remove, edge_list)\n",
    "\n",
    "nodes_to_remove = sorted_nodes_by_eigenc\n",
    "gc_list_by_eigenc, updated_G, count = remove_nodes(G, nodes_to_remove, edge_list)\n",
    "\n",
    "nodes_to_remove = sorted_nodes_by_closeness\n",
    "gc_list_by_closeness, updated_G, count = remove_nodes(G, nodes_to_remove, edge_list)\n",
    "\n",
    "nodes_to_remove = sorted_nodes_by_clustering\n",
    "gc_list_by_clustering, updated_G, count = remove_nodes(G, nodes_to_remove, edge_list)\n",
    "\n",
    "\"\"\";"
   ]
  },
  {
   "cell_type": "code",
   "execution_count": 20,
   "metadata": {},
   "outputs": [],
   "source": [
    "# #FAILURE\n",
    "\n",
    "\"\"\"RANDOM\"\"\"\n",
    "\n",
    "gc_list_by_random = []\n",
    "updated_G_list = []\n",
    "\n",
    "for i in range(100):\n",
    "    nodes_to_remove = sorted_nodes_by_random[i]\n",
    "    gc_temp, updated_G_temp, count = remove_nodes(G, nodes_to_remove, edge_list)\n",
    "    gc_list_by_random.append(normalize_gc_list(gc_temp))\n",
    "    updated_G_list.append(updated_G_temp)\n"
   ]
  },
  {
   "cell_type": "code",
   "execution_count": null,
   "metadata": {},
   "outputs": [],
   "source": []
  },
  {
   "cell_type": "code",
   "execution_count": 21,
   "metadata": {},
   "outputs": [],
   "source": [
    "def add_nodes(G, updated_G, nodes_to_add, edge_list):\n",
    "    \n",
    "    \"\"\"re: recovery\n",
    "    \"\"\"\n",
    "    \n",
    "    \"\"\"initialize the graph object with the graph (updated_G) remaining post failure\"\"\"\n",
    "    re_updated_G = copy.deepcopy(updated_G)\n",
    "    edges_to_add = copy.deepcopy(edge_list)\n",
    "     \n",
    "    \"\"\"empty list which will capture gc size as the network recovers\"\"\"\n",
    "    re_gc_list = []\n",
    "    count = 0\n",
    "    initial_gc_size = calculate_gc_size(G)\n",
    "    \n",
    "    if len(nodes_to_add) != len(G.nodes()):\n",
    "        re_gc_list.append(calculate_gc_size(re_updated_G))\n",
    "    \n",
    "    for node in nodes_to_add:\n",
    "        \n",
    "        re_updated_G.add_node(node)\n",
    "        re_updated_G.add_edges_from(list(G.edges(node)))\n",
    "        re_gc_list.append(calculate_gc_size(re_updated_G))\n",
    "    \n",
    "    \n",
    "    #re_gc_list.append(initial_gc_size)\n",
    "    \n",
    "    return re_gc_list, re_updated_G, count\n",
    "\n"
   ]
  },
  {
   "cell_type": "code",
   "execution_count": 22,
   "metadata": {},
   "outputs": [],
   "source": [
    "\"\"\"\n",
    "#RECOVERY\n",
    "\n",
    "\n",
    "nodes_to_add = sorted_nodes_by_degree\n",
    "re_gc_list_by_degree, re_updated_G, count = add_nodes(updated_G, nodes_to_add, edge_list)\n",
    "\n",
    "nodes_to_add = sorted_nodes_by_betweenness\n",
    "re_gc_list_by_betweenness, re_updated_G, count = add_nodes(updated_G, nodes_to_add, edge_list)\n",
    "\n",
    "nodes_to_add = sorted_nodes_by_eigenc\n",
    "re_gc_list_by_eigenc, re_updated_G, count = add_nodes(updated_G, nodes_to_add, edge_list)\n",
    "\n",
    "nodes_to_add = sorted_nodes_by_closeness\n",
    "re_gc_list_by_closeness, re_updated_G, count = add_nodes(updated_G, nodes_to_add, edge_list)\n",
    "\n",
    "nodes_to_add = sorted_nodes_by_clustering\n",
    "re_gc_list_by_clustering, re_updated_G, count = add_nodes(updated_G, nodes_to_add, edge_list)\n",
    "\"\"\";"
   ]
  },
  {
   "cell_type": "code",
   "execution_count": 23,
   "metadata": {},
   "outputs": [],
   "source": [
    "\"\"\"RECOVERY - RANDOM\"\"\"\n",
    "\n",
    "#Nodes to Add\n",
    "\n",
    "re_gc_list_by_random = []\n",
    "re_updated_G_list = []\n",
    "\n",
    "for i in range(100):\n",
    "    nodes_to_add = sorted_nodes_by_random[i]\n",
    "    re_gc_temp, re_updated_G_temp, count = add_nodes(G, updated_G_list[i], nodes_to_add, edge_list)\n",
    "    re_gc_list_by_random.append(normalize_gc_list(re_gc_temp))\n",
    "    re_updated_G_list.append(updated_G_temp)\n"
   ]
  },
  {
   "cell_type": "code",
   "execution_count": null,
   "metadata": {},
   "outputs": [],
   "source": []
  },
  {
   "cell_type": "code",
   "execution_count": 24,
   "metadata": {},
   "outputs": [],
   "source": [
    "#FAILURE - FOODS\n",
    "\n",
    "\n",
    "node_list_floods = [106, 6, 221, 345, 35, 180, 56, 69, 343, 44, 261, 57, 102, 214, 70, 176, 277, 257, 351, 90, 105, 132, 172, 316, 195, 202, 203, 349, 328, 241, 319, 337, 103, 333, 129, 254, 218, 352, 347, 12, 65, 290, 324, 50, 51, 325, 146, 66, 104, 239, 107, 108, 142, 323, 136, 137, 256, 143, 144, 145, 154, 197, 155, 269, 291]\n",
    "\n",
    "sorted_nodes_by_floods = []\n",
    "\n",
    "for i in range(100):\n",
    "    sorted_nodes_by_floods.append(random.sample(node_list_floods, len(node_list_floods)))\n",
    "\n",
    "\n",
    "gc_list_by_floods = []\n",
    "updated_G_list = []\n",
    "\n",
    "for i in range(100):\n",
    "    nodes_to_remove = sorted_nodes_by_floods[i]\n",
    "    gc_temp, updated_G_temp, count = remove_nodes(G, nodes_to_remove, edge_list)\n",
    "    gc_list_by_floods.append(normalize_gc_list(gc_temp))\n",
    "    updated_G_list.append(updated_G_temp)\n"
   ]
  },
  {
   "cell_type": "code",
   "execution_count": 25,
   "metadata": {},
   "outputs": [],
   "source": [
    "# # #RECOVERY - FLOODS (SAME ORDER AS FAILED)\n",
    "\n",
    "# # #Nodes to Add\n",
    "\n",
    "# re_gc_list_by_floods = []\n",
    "# re_updated_G_list = []\n",
    "\n",
    "# for i in range(100):\n",
    "#     nodes_to_add = sorted_nodes_by_floods[i]\n",
    "#     re_gc_temp, re_updated_G_temp, count = add_nodes(G, updated_G_list[i], nodes_to_add, edge_list)\n",
    "#     re_gc_list_by_floods.append(normalize_gc_list(re_gc_temp))\n",
    "#     re_updated_G_list.append(updated_G_temp)\n"
   ]
  },
  {
   "cell_type": "code",
   "execution_count": null,
   "metadata": {},
   "outputs": [],
   "source": []
  },
  {
   "cell_type": "code",
   "execution_count": 26,
   "metadata": {},
   "outputs": [],
   "source": [
    "#RECOVERY - FLOODS (BASED ON CEMTRALITY MEASURES)\n",
    "\n",
    "\"DEGREE\"\n",
    "mydict = dict(G.degree(sorted_nodes_by_floods[0]))\n",
    "sorted_nodes_by_degree = sorted(mydict, reverse=True, key=lambda k: mydict[k])\n",
    "\n",
    "nodes_to_add = sorted_nodes_by_degree\n",
    "re_gc_list_by_degree, re_updated_G, count = add_nodes(G, updated_G_list[0], nodes_to_add, edge_list)\n",
    "re_gc_list_by_degree = normalize_gc_list(re_gc_list_by_degree)\n",
    "\n",
    "\"BETWEENNESS\"\n",
    "sorted_nodes_by_betweenness = []\n",
    "my_dict = nx.betweenness_centrality(G)\n",
    "wanted_keys = sorted_nodes_by_floods[0]\n",
    "temp = dict((k, my_dict[k]) for k in wanted_keys if k in my_dict)\n",
    "sorted_nodes_by_betweenness = sorted(temp, reverse=True, key=lambda k: temp[k])\n",
    "\n",
    "nodes_to_add = sorted_nodes_by_betweenness\n",
    "re_gc_list_by_betweenness, re_updated_G, count = add_nodes(G, updated_G_list[0], nodes_to_add, edge_list)\n",
    "re_gc_list_by_betweenness = normalize_gc_list(re_gc_list_by_betweenness)\n",
    "\n",
    "\"EIGENVECTOR\"\n",
    "sorted_nodes_by_eigenc = []\n",
    "my_dict = nx.eigenvector_centrality(G)\n",
    "wanted_keys = sorted_nodes_by_floods[0]\n",
    "temp = dict((k, my_dict[k]) for k in wanted_keys if k in my_dict)\n",
    "sorted_nodes_by_eigenc = sorted(temp, reverse=True, key=lambda k: temp[k])\n",
    "\n",
    "nodes_to_add = sorted_nodes_by_eigenc\n",
    "re_gc_list_by_eigenc, re_updated_G, count = add_nodes(G, updated_G_list[0], nodes_to_add, edge_list)\n",
    "re_gc_list_by_eigenc = normalize_gc_list(re_gc_list_by_eigenc)\n",
    "\n",
    "\"CLOSENESS\"\n",
    "sorted_nodes_by_closeness = []\n",
    "my_dict = nx.closeness_centrality(G)\n",
    "wanted_keys = sorted_nodes_by_floods[0]\n",
    "temp = dict((k, my_dict[k]) for k in wanted_keys if k in my_dict)\n",
    "sorted_nodes_by_closeness = sorted(temp, reverse=True, key=lambda k: temp[k])\n",
    "\n",
    "nodes_to_add = sorted_nodes_by_closeness\n",
    "re_gc_list_by_closeness, re_updated_G, count = add_nodes(G, updated_G_list[0], nodes_to_add, edge_list)\n",
    "re_gc_list_by_closeness = normalize_gc_list(re_gc_list_by_closeness)\n",
    "\n",
    "\n"
   ]
  },
  {
   "cell_type": "code",
   "execution_count": 27,
   "metadata": {},
   "outputs": [
    {
     "name": "stdout",
     "output_type": "stream",
     "text": [
      "66\n",
      "66\n"
     ]
    }
   ],
   "source": [
    "\"\"\"RANDOM FLOOD RECOVERY\"\"\"\n",
    "\n",
    "re_gc_list_by_floods_random = []\n",
    "\n",
    "for i in range(100):\n",
    "    nodes_to_add = random.sample(sorted_nodes_by_floods[0], len(sorted_nodes_by_floods[0]))\n",
    "    temp, re_updated_G, count = add_nodes(G, updated_G_list[i], nodes_to_add, edge_list)\n",
    "    temp = normalize_gc_list(temp)\n",
    "    re_gc_list_by_floods_random.append(temp)\n",
    "\n",
    "\n",
    "re_gc_list_by_floods_random_mean = np.mean(np.array(re_gc_list_by_floods_random), axis=0)\n",
    "\n",
    "print(len(re_gc_list_by_floods_random[0]))\n",
    "print(len(re_gc_list_by_floods_random_mean))\n"
   ]
  },
  {
   "cell_type": "code",
   "execution_count": null,
   "metadata": {},
   "outputs": [],
   "source": []
  },
  {
   "cell_type": "code",
   "execution_count": null,
   "metadata": {},
   "outputs": [],
   "source": []
  },
  {
   "cell_type": "code",
   "execution_count": 28,
   "metadata": {},
   "outputs": [],
   "source": [
    "\"\"\"\n",
    "\n",
    "#EXTRACT GC SIZE LISTS\n",
    "\n",
    "np.save('agg_gc_list_by_random', gc_list_by_random)\n",
    "np.save('agg_re_gc_list_by_random', re_gc_list_by_random)\n",
    "\n",
    "np.save('agg_gc_list_by_degree', gc_list_by_degree)\n",
    "np.save('agg_re_gc_list_by_degree', re_gc_list_by_degree)\n",
    "\n",
    "np.save('agg_gc_list_by_betweenness', gc_list_by_betweenness)\n",
    "np.save('agg_re_gc_list_by_betweenness', re_gc_list_by_betweenness)\n",
    "\n",
    "np.save('agg_gc_list_by_eigenc', gc_list_by_eigenc)\n",
    "np.save('agg_re_gc_list_by_eigenc', re_gc_list_by_eigenc)\n",
    "\n",
    "np.save('agg_gc_list_by_closeness', gc_list_by_closeness)\n",
    "np.save('agg_re_gc_list_by_closeness', re_gc_list_by_closeness)\n",
    "\n",
    "np.save('agg_gc_list_by_clustering', gc_list_by_clustering)\n",
    "np.save('agg_re_gc_list_by_clustering', re_gc_list_by_clustering)\n",
    "\n",
    "\"\"\";"
   ]
  },
  {
   "cell_type": "code",
   "execution_count": 29,
   "metadata": {},
   "outputs": [],
   "source": [
    "#Ensemble Mean - Random\n",
    "\n",
    "gc_array_by_random = np.array(gc_list_by_random)\n",
    "re_gc_array_by_random = np.array(re_gc_list_by_random)\n",
    "\n",
    "\n",
    "gc_list_by_random_mean = np.mean(gc_array_by_random, axis=0)\n",
    "re_gc_list_by_random_mean = np.mean(re_gc_array_by_random, axis=0)\n",
    "\n"
   ]
  },
  {
   "cell_type": "code",
   "execution_count": 30,
   "metadata": {},
   "outputs": [],
   "source": [
    "# #Ensemble Mean - Floods\n",
    "\n",
    "# gc_array_by_floods = np.array(gc_list_by_floods)\n",
    "# re_gc_array_by_floods = np.array(re_gc_list_by_floods)\n",
    "\n",
    "\n",
    "# gc_list_by_floods_mean = np.mean(gc_array_by_floods, axis=0)\n",
    "# re_gc_list_by_floods_mean = np.mean(re_gc_array_by_floods, axis=0)\n",
    "\n"
   ]
  },
  {
   "cell_type": "code",
   "execution_count": null,
   "metadata": {},
   "outputs": [],
   "source": []
  },
  {
   "cell_type": "code",
   "execution_count": null,
   "metadata": {},
   "outputs": [],
   "source": []
  },
  {
   "cell_type": "code",
   "execution_count": 31,
   "metadata": {},
   "outputs": [],
   "source": [
    "\n",
    "#np.save('agg_gc_list_by_random', gc_by_random_mean)\n",
    "#np.save('agg_re_gc_list_by_random', re_gc_by_random_mean)"
   ]
  },
  {
   "cell_type": "code",
   "execution_count": 32,
   "metadata": {},
   "outputs": [],
   "source": [
    "# np.save('agg_gc_list_by_floods', gc_by_floods_mean)\n",
    "# np.save('agg_re_gc_list_by_floods', re_gc_by_floods_mean)"
   ]
  },
  {
   "cell_type": "code",
   "execution_count": 33,
   "metadata": {},
   "outputs": [],
   "source": [
    "# node_frac = np.arange(len(gc_list_by_floods[0]))/(len(gc_list_by_floods[0])-1)\n",
    "# len(node_frac)"
   ]
  },
  {
   "cell_type": "code",
   "execution_count": 34,
   "metadata": {},
   "outputs": [
    {
     "data": {
      "text/plain": [
       "66"
      ]
     },
     "execution_count": 34,
     "metadata": {},
     "output_type": "execute_result"
    }
   ],
   "source": [
    "node_frac = np.arange(len(gc_list_by_floods[0]))\n",
    "len(node_frac)"
   ]
  },
  {
   "cell_type": "code",
   "execution_count": 35,
   "metadata": {},
   "outputs": [],
   "source": [
    "\"\"\"Load Random-Local Case\"\"\"\n",
    "\n",
    "gc_list_by_random_local = np.load('agg_gc_list_by_random_local.npy')\n",
    "re_gc_list_by_random_local = np.load('agg_re_gc_list_by_random_local.npy')\n",
    "\n",
    "gc_list_by_random_local_mean = np.load('agg_gc_list_by_random_local_mean.npy')\n",
    "re_gc_list_by_random_local_mean = np.load('agg_re_gc_list_by_random_local_mean.npy')\n",
    "\n",
    "\n",
    "\"\"\"Load Targeted Failure Case (Betweenness)\"\"\"\n",
    "\n",
    "gc_list_by_betweenness = np.load('agg_gc_list_by_betweenness.npy')\n",
    "#re_gc_list_by_betweenness = np.load('agg_re_gc_list_by_betweenness.npy')\n",
    "\n",
    "\n",
    "\"\"\"Load Flood-Geo Case\"\"\"\n",
    "\n",
    "gc_list_by_floods_geo = np.load('agg_gc_list_by_floods_geo.npy')\n",
    "re_gc_list_by_floods_geo = np.load('agg_re_gc_list_by_floods_geo.npy')\n",
    "\n",
    "gc_list_by_floods_geo_mean = np.load('agg_gc_list_by_floods_geo_mean.npy')\n",
    "re_gc_list_by_floods_geo_mean = np.load('agg_re_gc_list_by_floods_geo_mean.npy')\n",
    "\n",
    "\n",
    "\"\"\"Load Failure Case for Flood + Targeted\"\"\"\n",
    "gc_list_by_floods_targeted = np.load('gc_list_by_floods_targeted.npy')\n",
    "gc_list_by_floods_targeted_mean = np.load('gc_list_by_floods_targeted_mean.npy')\n"
   ]
  },
  {
   "cell_type": "code",
   "execution_count": 36,
   "metadata": {},
   "outputs": [
    {
     "data": {
      "text/plain": [
       "66"
      ]
     },
     "execution_count": 36,
     "metadata": {},
     "output_type": "execute_result"
    }
   ],
   "source": [
    "len(gc_list_by_floods_targeted[0])"
   ]
  },
  {
   "cell_type": "code",
   "execution_count": 31,
   "metadata": {},
   "outputs": [],
   "source": [
    "node_frac = np.arange(66)"
   ]
  },
  {
   "cell_type": "code",
   "execution_count": null,
   "metadata": {},
   "outputs": [],
   "source": [
    "plt.figure(figsize=(12,8))\n",
    "\n",
    "for i in range(100):\n",
    "\n",
    "    plt.subplot(1,2,1)\n",
    "    \n",
    "    plt.plot(node_frac, gc_list_by_floods_geo[i],'s', alpha=0.010, markevery=5)\n",
    "    plt.plot(node_frac, gc_list_by_floods_geo_mean,'r--s', alpha=0.1, markevery=5)\n",
    "    \n",
    "    plt.plot(node_frac, gc_list_by_random[i],'X', alpha=0.010, markevery=5)\n",
    "    plt.plot(node_frac, gc_list_by_random_mean,'b--d', alpha=0.1, markevery=5)\n",
    "    \n",
    "    plt.plot(node_frac, gc_list_by_random_local[i],'X', alpha=0.005, markevery=5)\n",
    "    plt.plot(node_frac, gc_list_by_random_local_mean,'g--X',alpha=0.01, markevery=5)\n",
    "    \n",
    "    plt.plot(node_frac, gc_list_by_betweenness[:66],'m--o', markevery=5, alpha=0.01)\n",
    "\n",
    "    \n",
    "\n",
    "    plt.ylim(top=1, bottom=0)\n",
    "    #plt.xlim(left=0, right=1)\n",
    "    plt.xlabel('Number of Nodes Removed', fontsize=12, labelpad=10)\n",
    "    plt.ylabel('Fraction of Initial Giant Component Size', fontsize=12, labelpad=10)\n",
    "    plt.title('Failure')\n",
    "    plt.margins(x=0, y=0)\n",
    "    \n",
    "plt.plot(node_frac, gc_list_by_floods_geo_mean,'r--s', label='flood induced', markevery=5, alpha=0.5)\n",
    "plt.plot(node_frac, gc_list_by_random_mean,'b--d', label='random', markevery=5, alpha=0.5)\n",
    "plt.plot(node_frac, gc_list_by_random_local_mean,'g--X', label='random-local', markevery=5, alpha=0.5)\n",
    "plt.plot(node_frac, gc_list_by_betweenness[:66],'m--o', label='targeted \\n(betweenness)', markevery=5, alpha=0.5)\n",
    "\n",
    "plt.legend(fontsize=11)\n",
    "\n",
    "\n",
    "for i in range(100):\n",
    "    \n",
    "    plt.subplot(1,2,2)    \n",
    "    \n",
    "    plt.plot(node_frac, re_gc_list_by_floods_geo[i],'s', alpha=0.010, markevery=5)\n",
    "    plt.plot(node_frac, re_gc_list_by_floods_geo_mean,'r--s', alpha=0.1, markevery=5)\n",
    "    \n",
    "    plt.plot(node_frac, re_gc_list_by_random[i],'X', alpha=0.010, markevery=5)\n",
    "    plt.plot(node_frac, re_gc_list_by_random_mean,'b--d', alpha=0.1, markevery=5)\n",
    "    plt.plot(node_frac, re_gc_list_by_random_local[i],'X', alpha=0.005, markevery=5)\n",
    "    plt.plot(node_frac, re_gc_list_by_random_local_mean,'g--X',alpha=0.01, markevery=5)\n",
    "    \n",
    "    plt.plot(node_frac, re_gc_list_by_betweenness[:66],'m--o', markevery=5, alpha=0.01)\n",
    "\n",
    "    \n",
    "\n",
    "    plt.ylim(top=1, bottom=0)\n",
    "    #plt.xlim(left=0, right=1)\n",
    "    plt.xlabel('Number of Nodes Added Back', fontsize=12, labelpad=10)\n",
    "    plt.ylabel('Fraction of Initial Giant Component Size', fontsize=12, labelpad=10)\n",
    "    plt.title('Recovery')\n",
    "    plt.margins(x=0, y=0)\n",
    "    \n",
    "plt.plot(node_frac, re_gc_list_by_floods_geo_mean,'r--s', label='flood induced', markevery=5, alpha=0.5)\n",
    "plt.plot(node_frac, re_gc_list_by_random_mean,'b--d', label='random', markevery=5, alpha=0.5)\n",
    "plt.plot(node_frac, re_gc_list_by_random_mean,'g--X', label='random-local', markevery=5, alpha=0.5)\n",
    "plt.plot(node_frac, re_gc_list_by_betweenness[:66],'m--o', label='targeted \\n(betweenness)', markevery=5, alpha=0.5)\n",
    "\n",
    "plt.legend(fontsize=11)\n",
    "\n",
    "\n",
    "plt.subplots_adjust(wspace=0.3)\n",
    "plt.suptitle('Flood Induced vs Other Failures (Affected Nodes = 65)', y=0.95, fontsize='14')\n",
    "#plt.savefig('flood-vs-random-ensemble.pdf')\n",
    "plt.show()"
   ]
  },
  {
   "cell_type": "code",
   "execution_count": null,
   "metadata": {},
   "outputs": [],
   "source": [
    "re_gc_list_by_betweenness"
   ]
  },
  {
   "cell_type": "code",
   "execution_count": null,
   "metadata": {},
   "outputs": [],
   "source": [
    "#PLOTTING FLOOD GEO FAIURE vs CENTRALITY BASED RECOVERIES\n",
    "\n",
    "plt.figure(figsize=(12,8))\n",
    "\n",
    "for i in range(100):\n",
    "\n",
    "    plt.subplot(1,3,1)\n",
    "\n",
    "    plt.plot(node_frac, gc_list_by_floods_geo[i],'s', alpha=0.010, markevery=5)\n",
    "    plt.plot(node_frac, gc_list_by_floods_geo_mean,'r--s', alpha=0.1, markevery=5)\n",
    "    \n",
    "    plt.plot(node_frac, gc_list_by_random[i],'X', alpha=0.010, markevery=5)\n",
    "    plt.plot(node_frac, gc_list_by_random_mean,'b--d', alpha=0.1, markevery=5)\n",
    "    \n",
    "    plt.plot(node_frac, gc_list_by_random_local[i],'X', alpha=0.005, markevery=5)\n",
    "    plt.plot(node_frac, gc_list_by_random_local_mean,'g--X',alpha=0.01, markevery=5)\n",
    "    \n",
    "    plt.plot(node_frac, gc_list_by_betweenness[:66],'m--o', markevery=5, alpha=0.01)\n",
    "\n",
    "    \n",
    "\n",
    "    plt.ylim(top=1, bottom=0)\n",
    "    #plt.xlim(left=0, right=1)\n",
    "    plt.xlabel('Number of Nodes Removed', fontsize=12, labelpad=10)\n",
    "    plt.ylabel('Fraction of Initial Giant Component Size', fontsize=12, labelpad=10)\n",
    "    plt.title('Failure')\n",
    "    plt.margins(x=0, y=0)\n",
    "    \n",
    "plt.plot(node_frac, gc_list_by_floods_geo_mean,'r--s', label='flood induced', markevery=5, alpha=0.5)\n",
    "plt.plot(node_frac, gc_list_by_random_mean,'b--d', label='random', markevery=5, alpha=0.5)\n",
    "plt.plot(node_frac, gc_list_by_random_local_mean,'g--X', label='random-local', markevery=5, alpha=0.5)\n",
    "plt.plot(node_frac, gc_list_by_betweenness[:66],'m--o', label='targeted \\n(betweenness)', markevery=5, alpha=0.5)\n",
    "\n",
    "plt.legend(fontsize=11)\n",
    "\n",
    "\n",
    "\n",
    "plt.subplot(1,3,2)\n",
    "\n",
    "for i in range(100):\n",
    "    plt.plot(node_frac, gc_list_by_floods_geo[i],'rs', alpha=0.050, markevery=5)\n",
    "    plt.plot(node_frac, gc_list_by_floods_geo_mean,'r--s', alpha=0.05, markevery=5)\n",
    "\n",
    "\n",
    "plt.plot(node_frac, gc_list_by_floods_geo_mean,'r--s', label='flood induced', markevery=5, alpha=0.8)\n",
    "    \n",
    "plt.ylim(top=1, bottom=0)\n",
    "#plt.xlim(left=0, right=1)\n",
    "plt.xlabel('Number of Nodes Removed', fontsize=12, labelpad=10)\n",
    "#plt.ylabel('Fraction of Initial Giant Component Size', fontsize=12, labelpad=10)\n",
    "plt.title('Failure')\n",
    "plt.margins(x=0, y=0)\n",
    "    \n",
    "plt.legend(fontsize=11)\n",
    "\n",
    "    \n",
    "plt.subplot(1,3,3)    \n",
    "    \n",
    "plt.plot(node_frac, re_gc_list_by_degree,'b--*', label='#degree', markevery=5, alpha=0.8)\n",
    "plt.plot(node_frac, re_gc_list_by_betweenness,'g--d', label='#betweenness', markevery=5, alpha=0.8)\n",
    "plt.plot(node_frac, re_gc_list_by_eigenc,'m--x', label='#eigenc', markevery=5, alpha=0.8)\n",
    "plt.plot(node_frac, re_gc_list_by_closeness,'c--1', label='#closeness', markevery=5, alpha=0.8)\n",
    "plt.plot(node_frac, re_gc_list_by_floods_random_mean,'k--p', label='#random', markevery=5, alpha=0.8)\n",
    "\n",
    "\n",
    "\n",
    "plt.ylim(top=1, bottom=0)\n",
    "#plt.xlim(left=0, right=1)\n",
    "plt.xlabel('Number of Nodes Added Back', fontsize=12, labelpad=10)\n",
    "#plt.ylabel('Fraction of Initial Giant Component Size', fontsize=12, labelpad=10)\n",
    "plt.title('Recovery')\n",
    "plt.margins(x=0, y=0)\n",
    "plt.legend(fontsize=11)\n",
    "\n",
    "\n",
    "plt.subplots_adjust(wspace=0.1)\n",
    "plt.suptitle('Flood Induced Failure and Recovery Strategies (Affected Nodes = 65)', y=0.95, fontsize='14')\n",
    "#plt.savefig('flood-vs-random-ensemble.pdf')\n",
    "plt.show()"
   ]
  },
  {
   "cell_type": "code",
   "execution_count": null,
   "metadata": {},
   "outputs": [],
   "source": []
  },
  {
   "cell_type": "code",
   "execution_count": null,
   "metadata": {},
   "outputs": [],
   "source": []
  },
  {
   "cell_type": "code",
   "execution_count": 44,
   "metadata": {},
   "outputs": [
    {
     "data": {
      "image/png": "[encoded data removed]",
      "text/plain": [
       "<Figure size 1152x576 with 2 Axes>"
      ]
     },
     "metadata": {
      "needs_background": "light"
     },
     "output_type": "display_data"
    }
   ],
   "source": [
    "grid = plt.GridSpec(1, 2, wspace=0, hspace=0.2)\n",
    "plt.figure(figsize=(16,8))\n",
    "\n",
    "\"\"\"SUBPLOT 1\"\"\"\n",
    "# plt.subplot(grid[0, 0])\n",
    "# for i in range(10):\n",
    "#     plt.plot(node_frac, gc_list_by_floods_geo[i],'rs', alpha=0.1, markevery=5)\n",
    "#     plt.plot(node_frac, gc_list_by_floods_geo_mean,'r--s', alpha=0.1, markevery=5)\n",
    "    \n",
    "#     plt.plot(node_frac, gc_list_by_random[i],'bs', alpha=0.1, markevery=5)\n",
    "#     plt.plot(node_frac, gc_list_by_random_mean,'b--d', alpha=0.1, markevery=5)\n",
    "    \n",
    "#     plt.plot(node_frac, gc_list_by_random_local[i],'gX', alpha=0.1, markevery=5)\n",
    "#     plt.plot(node_frac, gc_list_by_random_local_mean,'g--X',alpha=0.01, markevery=5)\n",
    "    \n",
    "#     #plt.plot(node_frac, gc_list_by_floods_targeted[i],'ks', alpha=0.1, markevery=5)\n",
    "#     #plt.plot(node_frac, gc_list_by_floods_targeted_mean,'k--P', alpha=0.1, markevery=5)\n",
    "    \n",
    "#     #plt.plot(node_frac, gc_list_by_betweenness[:66],'m--o', markevery=5, alpha=0.01)\n",
    "\n",
    "#     plt.ylim(top=1, bottom=0)\n",
    "#     #plt.xlim(left=0, right=1)\n",
    "#     plt.xlabel('Number of Nodes Removed', fontsize=12, labelpad=10)\n",
    "#     plt.ylabel(r'P$\\infty$', fontsize=20, labelpad=10)\n",
    "#     plt.title('Failure')\n",
    "#     plt.margins(x=0, y=0)\n",
    "    \n",
    "# plt.plot(node_frac, gc_list_by_floods_geo_mean,'r--s', label='flood induced', markevery=5, alpha=0.5)\n",
    "# plt.plot(node_frac, gc_list_by_random_mean,'b--d', label='random', markevery=5, alpha=0.5)\n",
    "# plt.plot(node_frac, gc_list_by_random_local_mean,'g--X', label='random-local', markevery=5, alpha=0.5)\n",
    "\n",
    "# plt.legend(fontsize=11)\n",
    "# plt.text(0,1.07, \"(a)\", fontsize=16, weight='bold')\n",
    "\n",
    "# \"\"\"SUBPLOT 2\"\"\"\n",
    "# plt.subplot(grid[0, 1])\n",
    "\n",
    "# for i in range(10):\n",
    "#     plt.plot(node_frac, gc_list_by_floods_geo[i],'rs', alpha=0.1, markevery=5)\n",
    "#     plt.plot(node_frac, gc_list_by_floods_geo_mean,'r--s', alpha=0.1, markevery=5)\n",
    "    \n",
    "#     plt.plot(node_frac, gc_list_by_floods_targeted[i],'ks', alpha=0.1, markevery=5)\n",
    "#     plt.plot(node_frac, gc_list_by_floods_targeted_mean,'k--P', alpha=0.1, markevery=5)\n",
    "    \n",
    "#     plt.plot(node_frac, gc_list_by_betweenness[:66],'m--o', markevery=5, alpha=0.01)\n",
    "\n",
    "# plt.ylim(top=1, bottom=0)\n",
    "# #plt.xlim(left=0, right=1)\n",
    "# plt.xlabel('Number of Nodes Removed', fontsize=12, labelpad=10)\n",
    "# #plt.ylabel(r'P$\\infty$', fontsize=20, labelpad=10)\n",
    "# plt.title('Failure')\n",
    "# plt.margins(x=0, y=0)\n",
    "\n",
    "\n",
    "# plt.plot(node_frac, gc_list_by_floods_geo_mean,'r--s', label='flood induced', markevery=5, alpha=0.5)\n",
    "# plt.plot(node_frac, gc_list_by_betweenness[:66],'m--o', label='targeted\\n(degree)', markevery=5, alpha=0.8)\n",
    "# plt.plot(node_frac, gc_list_by_floods_targeted_mean,'k--P',label='compound\\n(flood+targeted)', markevery=5, alpha=0.5)\n",
    "\n",
    "# plt.legend(fontsize=11)\n",
    "# plt.text(0,1.07, \"(b)\", fontsize=16, weight='bold')\n",
    "\n",
    "\"\"\"SUBPLOT 3\"\"\"\n",
    "plt.subplot(grid[0, 0])\n",
    "plt.plot(node_frac, gc_list_by_floods_geo_mean,'-o', color='crimson', label='flood failure\\n(ensemble mean)', markersize=9, markerfacecolor='none', markevery=3, alpha=1)\n",
    "    \n",
    "plt.ylim(top=1, bottom=0.7)\n",
    "#plt.xlim(left=0, right=1)\n",
    "#plt.xlabel('Number of Nodes Removed (total=65)', fontsize=12, labelpad=10)\n",
    "#plt.ylabel('Relative Giant Component Size', fontsize=12, labelpad=10)\n",
    "#plt.title('Failure')\n",
    "plt.margins(x=0, y=0)\n",
    "plt.yticks([0.7,0.8,0.9,1], fontsize=16)\n",
    "plt.xticks([0,20,40,60], fontsize=16)\n",
    "\n",
    "\n",
    "#plt.text(0,1.03, \"a\", fontsize=16, weight='bold')\n",
    "plt.legend(fontsize=16)\n",
    "\n",
    "\n",
    "\"\"\"SUBPLOT 4\"\"\"\n",
    "plt.subplot(grid[0, 1])\n",
    "\n",
    "plt.plot(node_frac, re_gc_list_by_degree,'-*', color='blue', label='degree', markersize=9, markerfacecolor='none', markevery=3, alpha=1)\n",
    "plt.plot(node_frac, re_gc_list_by_betweenness,'g-s', label='betweenness',markersize=9, markerfacecolor='none', markevery=3, alpha=1)\n",
    "plt.plot(node_frac, re_gc_list_by_eigenc,'m-X', label='eigenvector',markersize=9, markerfacecolor='none',markevery=3, alpha=1)\n",
    "#plt.plot(node_frac, re_gc_list_by_closeness,'c-P', label='#closeness',markersize=10, markerfacecolor='none', markevery=3, alpha=1)\n",
    "plt.plot(node_frac, re_gc_list_by_floods_random_mean,'k-p', label='random', markersize=9, markerfacecolor='none',markevery=3, alpha=1)\n",
    "plt.plot(node_frac, re_gc_list_by_floods_geo_mean,'-o', color='crimson', markersize=9, label='reverse order\\n(flood)', markerfacecolor='none', markevery=3, alpha=1)\n",
    "\n",
    "\n",
    "\n",
    "plt.ylim(top=1, bottom=0.7)\n",
    "#plt.xlim(left=0, right=1)\n",
    "#plt.xlabel('Number of Nodes Added Back (total=65)', fontsize=12, labelpad=10)\n",
    "#plt.ylabel('Fraction of Initial Giant Component Size', fontsize=12, labelpad=10)\n",
    "#plt.title('Recovery')\n",
    "plt.margins(x=0, y=0)\n",
    "plt.legend(fontsize=16, loc='lower right')\n",
    "plt.xticks([0,20,40,60], fontsize=16)\n",
    "plt.yticks([])\n",
    "#plt.text(0,1.03, \"b\", fontsize=16, weight='bold')\n",
    "\n",
    "plt.savefig('flood-recovery.pdf', dpi=1200, bbox_inches='tight')\n",
    "plt.show()"
   ]
  },
  {
   "cell_type": "code",
   "execution_count": null,
   "metadata": {},
   "outputs": [],
   "source": []
  },
  {
   "cell_type": "code",
   "execution_count": null,
   "metadata": {},
   "outputs": [],
   "source": []
  },
  {
   "cell_type": "code",
   "execution_count": null,
   "metadata": {},
   "outputs": [],
   "source": []
  }
 ],
 "metadata": {
  "kernelspec": {
   "display_name": "Python 3",
   "language": "python",
   "name": "python3"
  },
  "language_info": {
   "codemirror_mode": {
    "name": "ipython",
    "version": 3
   },
   "file_extension": ".py",
   "mimetype": "text/x-python",
   "name": "python",
   "nbconvert_exporter": "python",
   "pygments_lexer": "ipython3",
   "version": "3.7.3"
  }
 },
 "nbformat": 4,
 "nbformat_minor": 4
}
