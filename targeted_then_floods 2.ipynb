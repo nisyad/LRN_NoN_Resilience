{
 "cells": [
  {
   "cell_type": "code",
   "execution_count": 1,
   "metadata": {},
   "outputs": [],
   "source": [
    "import pandas as pd\n",
    "import numpy as np\n",
    "import yaml\n",
    "import copy\n",
    "import matplotlib\n",
    "import matplotlib.pyplot as plt\n",
    "import warnings\n",
    "import random\n",
    "import collections\n",
    "warnings.filterwarnings(\"ignore\")\n",
    "matplotlib.use('TkAgg')\n",
    "import networkx as nx\n",
    "%matplotlib inline"
   ]
  },
  {
   "cell_type": "code",
   "execution_count": 2,
   "metadata": {},
   "outputs": [
    {
     "data": {
      "text/plain": [
       "'/Users/nishant/Desktop/PNNL-2019/December_codes'"
      ]
     },
     "execution_count": 2,
     "metadata": {},
     "output_type": "execute_result"
    }
   ],
   "source": [
    "pwd"
   ]
  },
  {
   "cell_type": "code",
   "execution_count": 3,
   "metadata": {},
   "outputs": [],
   "source": [
    "def import_network(path):\n",
    "    \"\"\"\n",
    "    path = path to network data\n",
    "    df = imported network data as a pandas dataframe\n",
    "    \"\"\"\n",
    "    \n",
    "    df = pd.read_csv(path, sep=\" \", \n",
    "                 header=None,\n",
    "                 names=['layer','node1','node2','weight'])\n",
    "    \n",
    "    return df\n",
    "\n",
    "\n",
    "def create_edge_list(df, n_layers):\n",
    "    \n",
    "    edges = []\n",
    "    for i in range(n_layers):\n",
    "        edges.append(list(zip(df[\"node1\"][df.layer==i+1], df[\"node2\"][df.layer==i+1])))\n",
    "    \n",
    "    return edges\n",
    "\n",
    "def create_node_list(df, which_layer):\n",
    "    \n",
    "    temp = list(set(df.node1[df.layer==which_layer]))\n",
    "    temp2 = list(set(df.node2[df.layer==which_layer]))\n",
    "    node_list = list(set(temp+temp2))\n",
    "    \n",
    "    return node_list\n",
    "\n",
    "\n",
    "def calculate_gc_size(graph):\n",
    "    \"\"\"\n",
    "    gc = giant component\n",
    "    \"\"\"\n",
    "    \n",
    "    gc_size = [len(c) for c in sorted(nx.connected_components(graph), key=len, reverse=True)][0]\n",
    "    \n",
    "    return gc_size\n",
    "\n",
    "\n",
    "def normalize_gc_list(gc_list):\n",
    "    \"calculates gc size as a fraction of initial gc\"\n",
    "    \n",
    "    return np.array(gc_list)/max(gc_list)\n",
    "\n"
   ]
  },
  {
   "cell_type": "code",
   "execution_count": 4,
   "metadata": {},
   "outputs": [],
   "source": [
    "if __name__ == \"__main__\":\n",
    "    \n",
    "    config_file = '/Users/nishant/Desktop/PNNL-2019/config.yml'\n",
    "    \n",
    "    with open(config_file, 'r') as f:\n",
    "        config = yaml.safe_load(f)\n",
    "        path = config['path']\n",
    "        n_layers = config['n_layers']\n",
    "        df = import_network(path)\n",
    "        edge_list = create_edge_list(df, n_layers)"
   ]
  },
  {
   "cell_type": "code",
   "execution_count": 5,
   "metadata": {},
   "outputs": [
    {
     "name": "stdout",
     "output_type": "stream",
     "text": [
      "312\n",
      "83\n",
      "46\n",
      "430\n"
     ]
    }
   ],
   "source": [
    "\"\"\"CREATE EDGE LIST\"\"\"\n",
    "\n",
    "edge_list_1 = edge_list[0]\n",
    "edge_list_2 = edge_list[1]\n",
    "edge_list_3 = edge_list[2]\n",
    "\n",
    "agg_edges = list(set(edge_list_1 + edge_list_2 + edge_list_3))\n",
    "\n",
    "print(len(edge_list_1))\n",
    "print(len(edge_list_2))\n",
    "print(len(edge_list_3))\n",
    "print(len(agg_edges))"
   ]
  },
  {
   "cell_type": "code",
   "execution_count": 6,
   "metadata": {},
   "outputs": [
    {
     "name": "stdout",
     "output_type": "stream",
     "text": [
      "271\n",
      "83\n",
      "45\n"
     ]
    }
   ],
   "source": [
    "\"\"\"CREATE NODE LISTS\"\"\"\n",
    "\n",
    "node_list_1 = create_node_list(df, 1)\n",
    "node_list_2 = create_node_list(df, 2)\n",
    "node_list_3 = create_node_list(df, 3)\n",
    "\n",
    "print(len(node_list_1))\n",
    "print(len(node_list_2))\n",
    "print(len(node_list_3))"
   ]
  },
  {
   "cell_type": "code",
   "execution_count": 7,
   "metadata": {},
   "outputs": [],
   "source": [
    "G1 = nx.Graph()\n",
    "G1.add_edges_from(edge_list_1)\n",
    "\n",
    "G2 = nx.Graph()\n",
    "G2.add_edges_from(edge_list_2)\n",
    "\n",
    "G3 = nx.Graph()\n",
    "G3.add_edges_from(edge_list_3)\n",
    "\n",
    "agg_G = nx.Graph()\n",
    "agg_G.add_edges_from(agg_edges)\n"
   ]
  },
  {
   "cell_type": "code",
   "execution_count": null,
   "metadata": {},
   "outputs": [],
   "source": []
  },
  {
   "cell_type": "code",
   "execution_count": 8,
   "metadata": {},
   "outputs": [
    {
     "name": "stdout",
     "output_type": "stream",
     "text": [
      "Nodes:  369\n",
      "Edges:  430\n"
     ]
    }
   ],
   "source": [
    "\"\"\"PICK THE GRAPH TO ANALYZE \"\"\"\n",
    "\n",
    "which_graph = 4\n",
    "\n",
    "\"\"\"\n",
    "which_graph:\n",
    "\n",
    "1: layer 1 (underground)\n",
    "2: layer 2 (overground)\n",
    "3: layer 3 (DLR)\n",
    "4: Aggregated \n",
    "5: Mplex (not working here)\n",
    "\n",
    "\"\"\"\n",
    "\n",
    "\n",
    "if which_graph == 1:\n",
    "    G = G1\n",
    "    node_list = node_list_1\n",
    "\n",
    "elif which_graph == 2:\n",
    "    G = G2\n",
    "    node_list = node_list_2\n",
    "    \n",
    "elif which_graph == 3:\n",
    "    G = G3\n",
    "    node_list = node_list_3\n",
    "    \n",
    "elif which_graph == 4:\n",
    "    G = agg_G\n",
    "    node_list = list(G.nodes())\n",
    "    \n",
    "elif which_graph == 5:\n",
    "    G = mplex_G\n",
    "    node_list = list(G.nodes())\n",
    "\n",
    "\n",
    "edge_list = list(G.edges)\n",
    "\n",
    "print('Nodes: ', len(node_list))\n",
    "print('Edges: ', len(edge_list))"
   ]
  },
  {
   "cell_type": "code",
   "execution_count": 9,
   "metadata": {},
   "outputs": [
    {
     "name": "stdout",
     "output_type": "stream",
     "text": [
      "369\n"
     ]
    }
   ],
   "source": [
    "\"\"\"\n",
    "calculate initial giant component (gc) size\n",
    "\"\"\"\n",
    "\n",
    "initial_gc_size = calculate_gc_size(G)\n",
    "print(initial_gc_size)\n"
   ]
  },
  {
   "cell_type": "code",
   "execution_count": null,
   "metadata": {},
   "outputs": [],
   "source": []
  },
  {
   "cell_type": "code",
   "execution_count": 10,
   "metadata": {},
   "outputs": [],
   "source": [
    "# \"\"\"Create Ensemble Lists of Nodes to Remove for Random Failure\"\"\"\n",
    "\n",
    "# node_list = list(G.nodes())\n",
    "# node_list_copy = copy.deepcopy(node_list)\n",
    "\n",
    "# #n_nodes_to_remove = len(node_list)\n",
    "# n_nodes_to_remove = 65\n",
    "\n",
    "# sorted_nodes_by_random = []\n",
    "\n",
    "# for i in range(10):\n",
    "#     sorted_nodes_by_random.append(random.sample(node_list_copy, n_nodes_to_remove))\n",
    "\n",
    "\n",
    "# print(len(sorted_nodes_by_random[0]))\n",
    "# print(len(sorted_nodes_by_random))"
   ]
  },
  {
   "cell_type": "code",
   "execution_count": null,
   "metadata": {},
   "outputs": [],
   "source": []
  },
  {
   "cell_type": "markdown",
   "metadata": {},
   "source": [
    "## FAILURE PART OF THE PLOT"
   ]
  },
  {
   "cell_type": "code",
   "execution_count": 11,
   "metadata": {},
   "outputs": [],
   "source": [
    "def remove_nodes(G, nodes_to_remove, edge_list):\n",
    "\n",
    "    \"\"\"\n",
    "    nodes_to_remove: list\n",
    "\n",
    "    edge_list: the orginal list of tuples (edges)\n",
    "                e.g. [(1,77), (4,13)..]\n",
    "\n",
    "    returns list of GC sizes and the graph remaining \n",
    "    \"\"\"\n",
    "\n",
    "    \n",
    "    \"\"\"initialize updated_edges list with original edge_list\"\"\"\n",
    "    updated_edges = copy.deepcopy(edge_list)\n",
    "    \n",
    "    \"\"\"initialize updated_G with orginial graph G\"\"\"\n",
    "    updated_G = copy.deepcopy(G)\n",
    "    initial_gc_size = calculate_gc_size(G)\n",
    "    \n",
    "    \"\"\"empty list which will capture gc size as the network fails\"\"\"\n",
    "    gc_list = []\n",
    "    gc_list.append(initial_gc_size)\n",
    "    count = 0\n",
    "\n",
    "    for node in nodes_to_remove:\n",
    "        \n",
    "        updated_G.remove_edges_from(list(G.edges(node)))\n",
    "        \n",
    "        gc_list.append(calculate_gc_size(updated_G))\n",
    "        updated_G.remove_node(node)\n",
    "    \n",
    "        count +=1\n",
    "    \n",
    "    #else:\n",
    "    if len(nodes_to_remove) == len(node_list):\n",
    "        gc_list.append(0)\n",
    "    \n",
    "    return gc_list, updated_G, count\n"
   ]
  },
  {
   "cell_type": "code",
   "execution_count": 12,
   "metadata": {},
   "outputs": [],
   "source": [
    "# \"\"\"BETWEENNESS\"\"\"\n",
    "# betweenness_c = nx.betweenness_centrality(G)\n",
    "# temp = sorted(betweenness_c.items(), key=lambda kv: kv[1], reverse=True)\n",
    "# sorted_nodes_by_betweenness = [i[0] for i in temp]\n",
    "# print(len(sorted_nodes_by_betweenness))\n"
   ]
  },
  {
   "cell_type": "code",
   "execution_count": 13,
   "metadata": {},
   "outputs": [],
   "source": [
    "# \"\"\"Betweenness\"\"\"\n",
    "# nodes_to_remove = sorted_nodes_by_betweenness\n",
    "# gc_list_by_betweenness, updated_G, count = remove_nodes(G, nodes_to_remove, edge_list)\n",
    "# gc_list_by_betweenness = normalize_gc_list(gc_list_by_betweenness)\n"
   ]
  },
  {
   "cell_type": "code",
   "execution_count": null,
   "metadata": {},
   "outputs": [],
   "source": []
  },
  {
   "cell_type": "code",
   "execution_count": 14,
   "metadata": {},
   "outputs": [
    {
     "data": {
      "text/plain": [
       "65"
      ]
     },
     "execution_count": 14,
     "metadata": {},
     "output_type": "execute_result"
    }
   ],
   "source": [
    "\"\"\"LIST OF AFFECTED NODES BY FLOODS\"\"\"\n",
    "\n",
    "if which_graph == 1:\n",
    "    \n",
    "    #layer 1\n",
    "    node_list_floods = [106, 6,221,345,35,180,56,69,343,44,261,57,102,214,70,176,277,257,351,90,105,132,172,316,195,202,203,349,328,241,319]\n",
    "\n",
    "if which_graph == 2:\n",
    "    \n",
    "    #layer 2\n",
    "    node_list_floods = [337, 103, 333, 129, 254, 218]\n",
    "\n",
    "if which_graph == 3:\n",
    "    \n",
    "    #layer 3\n",
    "    node_list_floods = [352, 347, 12, 65, 290, 324,50,51,325,146,66,104,239,107,108,142,323,136,137,256,143,144,145,154,197,155,269,291]\n",
    "\n",
    "if which_graph == 4:\n",
    "\n",
    "    #aggregate and \n",
    "    node_list_floods = [106, 6, 221, 345, 35, 180, 56, 69, 343, 44, 261, 57, 102, 214, 70, 176, 277, 257, 351, 90, 105, 132, 172, 316, 195, 202, 203, 349, 328, 241, 319, 337, 103, 333, 129, 254, 218, 352, 347, 12, 65, 290, 324, 50, 51, 325, 146, 66, 104, 239, 107, 108, 142, 323, 136, 137, 256, 143, 144, 145, 154, 197, 155, 269, 291]\n",
    "\n",
    "    \n",
    "len(node_list_floods)"
   ]
  },
  {
   "cell_type": "code",
   "execution_count": 166,
   "metadata": {},
   "outputs": [
    {
     "name": "stdout",
     "output_type": "stream",
     "text": [
      "27\n",
      "23\n",
      "15\n",
      "65\n"
     ]
    }
   ],
   "source": [
    "# # \"\"\"FLOOD FAILURE - GEO CLOSEST\"\"\"\n",
    "\n",
    "near_1 = [6,345,328,221,203,172, 254, 351, 319,214, 180, 343, 277, 35, 56, 57, 337, 333, 256, 144, 65, 66, 108, 323, 291, 269, 106]\n",
    "\n",
    "near_2 = [44,46,316,255,129,349,70,69,103,137,145,104,239,102,324,290,105,107,143,325,50,51,146]\n",
    "\n",
    "near_3 = [195,196,261,202,204,154,176,155,136,12,90,347,352,218,197]\n",
    "\n",
    "print(len(near_1))\n",
    "print(len(near_2))\n",
    "print(len(near_3))\n",
    "print(len(near_1)+len(near_2)+len(near_3))\n",
    "\n",
    "\n",
    "sorted_nodes_by_floods = []\n",
    "\n",
    "n_iter = 50\n",
    "\n",
    "# # 100 ensembles of flooded nodes\n",
    "# for i in range(n_iter):\n",
    "    \n",
    "#     temp = random.sample(near_1, len(near_1)) + random.sample(near_2, len(near_2)) + random.sample(near_3, len(near_3))\n",
    "#     sorted_nodes_by_floods.append(temp)\n",
    "\n",
    "# gc_list_by_floods = []\n",
    "# updated_G_list = []\n",
    "\n",
    "\n",
    "# #100 ensemble failure due to floods(geo)\n",
    "# for i in range(n_iter):\n",
    "#     nodes_to_remove = sorted_nodes_by_floods[i]\n",
    "#     gc_temp, updated_G_temp, count = remove_nodes(G, nodes_to_remove, edge_list)\n",
    "#     gc_list_by_floods.append(normalize_gc_list(gc_temp))\n",
    "#     updated_G_list.append(updated_G_temp)\n",
    "\n",
    "# print('Number of Affected Nodes: ', len(node_list_floods))\n",
    "# print(len(gc_list_by_floods))\n",
    "# print(len(gc_list_by_floods[0]))"
   ]
  },
  {
   "cell_type": "code",
   "execution_count": null,
   "metadata": {},
   "outputs": [],
   "source": []
  },
  {
   "cell_type": "code",
   "execution_count": 167,
   "metadata": {},
   "outputs": [],
   "source": [
    "#sorted_nodes_by_floods[0]"
   ]
  },
  {
   "cell_type": "code",
   "execution_count": 168,
   "metadata": {},
   "outputs": [
    {
     "name": "stdout",
     "output_type": "stream",
     "text": [
      "369\n",
      "temp\n",
      "65\n",
      "gc_list_by_floods_targeted\n",
      "66\n",
      "65\n"
     ]
    }
   ],
   "source": [
    "# \"\"\"FLOOD + TARGETED FAILURE\"\"\"\n",
    "\n",
    "sorted_nodes_by_floods_targeted = []\n",
    "gc_list_by_floods_targeted = []\n",
    "updated_G_list = []\n",
    "\n",
    "# sorted_nodes_by_betweenness = []\n",
    "# my_dict = nx.betweenness_centrality(G)\n",
    "# wanted_keys = near_3\n",
    "# temp = dict((k, my_dict[k]) for k in wanted_keys if k in my_dict)\n",
    "# sorted_nodes_by_betweenness = sorted(temp, reverse=True, key=lambda k: temp[k])\n",
    "\n",
    "\n",
    "\"\"\"BETWEENNESS\"\"\"\n",
    "betweenness_c = nx.betweenness_centrality(G)\n",
    "temp = sorted(betweenness_c.items(), key=lambda kv: kv[1], reverse=True)\n",
    "sorted_nodes_by_betweenness = [i[0] for i in temp]\n",
    "print(len(sorted_nodes_by_betweenness))\n",
    "\n",
    "\n",
    "for i in range(n_iter):\n",
    "    \n",
    "    temp = sorted_nodes_by_betweenness[:0]\n",
    "    \n",
    "    temp2 = random.sample(near_1, len(near_1)) + random.sample(near_2, len(near_2)) + random.sample(near_3, len(near_3))\n",
    "    \n",
    "    for node in temp2:\n",
    "        if node not in temp:\n",
    "            temp.append(node)\n",
    "    \n",
    "#     #temp = random.sample(near_1, len(near_1)) + random.sample(near_2, len(near_2[:18])) \n",
    "#     temp = random.sample(near_1, len(near_1)) \n",
    "    \n",
    "#     for node in sorted_nodes_by_betweenness[:46]:\n",
    "#         if node not in temp:\n",
    "#             temp.append(node)\n",
    "    \n",
    "    sorted_nodes_by_floods_targeted.append(temp)\n",
    "\n",
    "    \n",
    "for i in range(n_iter):\n",
    "    nodes_to_remove = sorted_nodes_by_floods_targeted[i][:65]\n",
    "    gc_temp, updated_G_temp, count = remove_nodes(G, nodes_to_remove, edge_list)\n",
    "    gc_list_by_floods_targeted.append(normalize_gc_list(gc_temp))\n",
    "    #gc_list_by_floods_targeted.append(gc_temp)\n",
    "    updated_G_list.append(updated_G_temp)   \n",
    "    \n",
    "\n",
    "print(\"temp\")\n",
    "print(len(temp))\n",
    "print(\"gc_list_by_floods_targeted\")\n",
    "print(len(gc_list_by_floods_targeted[0]))\n",
    "print(len(nodes_to_remove))\n"
   ]
  },
  {
   "cell_type": "code",
   "execution_count": 169,
   "metadata": {},
   "outputs": [
    {
     "name": "stdout",
     "output_type": "stream",
     "text": [
      "done\n"
     ]
    }
   ],
   "source": [
    "print('done')"
   ]
  },
  {
   "cell_type": "code",
   "execution_count": 170,
   "metadata": {},
   "outputs": [
    {
     "data": {
      "text/plain": [
       "'SAVE FLOOD + TARGETED'"
      ]
     },
     "execution_count": 170,
     "metadata": {},
     "output_type": "execute_result"
    }
   ],
   "source": [
    "\"\"\"SAVE FLOOD + TARGETED\"\"\"\n",
    "\n",
    "# np.save('gc_list_by_floods_targeted.npy', gc_list_by_floods_targeted)\n",
    "# gc_list_by_floods_targeted_mean = np.mean(np.array(gc_list_by_floods_targeted), axis=0)\n",
    "# np.save('gc_list_by_floods_targeted_mean.npy', gc_list_by_floods_targeted_mean)"
   ]
  },
  {
   "cell_type": "code",
   "execution_count": null,
   "metadata": {},
   "outputs": [],
   "source": []
  },
  {
   "cell_type": "code",
   "execution_count": 171,
   "metadata": {},
   "outputs": [
    {
     "name": "stdout",
     "output_type": "stream",
     "text": [
      "50\n",
      "66\n"
     ]
    }
   ],
   "source": [
    "\"\"\"Calculate Ensemble Mean - Flood + Targeted\"\"\"\n",
    "\n",
    "gc_array_by_floods_targeted = np.array(gc_list_by_floods_targeted)\n",
    "#re_gc_array_by_floods_targeted = np.array(re_gc_list_by_floods)\n",
    "\n",
    "gc_list_by_floods_targeted_mean = np.mean(gc_array_by_floods_targeted, axis=0)\n",
    "#re_gc_list_by_floods_mean = np.mean(re_gc_array_by_floods, axis=0)\n",
    "\n",
    "print(len(gc_list_by_floods_targeted))\n",
    "print(len(gc_list_by_floods_targeted_mean))"
   ]
  },
  {
   "cell_type": "code",
   "execution_count": 172,
   "metadata": {},
   "outputs": [
    {
     "data": {
      "text/plain": [
       "'/Users/nishant/Desktop/PNNL-2019/December_codes'"
      ]
     },
     "execution_count": 172,
     "metadata": {},
     "output_type": "execute_result"
    }
   ],
   "source": [
    "pwd"
   ]
  },
  {
   "cell_type": "markdown",
   "metadata": {},
   "source": [
    "## RECOVERY PART OF THE PLOT"
   ]
  },
  {
   "cell_type": "code",
   "execution_count": 156,
   "metadata": {},
   "outputs": [],
   "source": [
    "# def add_nodes(G, updated_G, nodes_to_add, edge_list):\n",
    "    \n",
    "#     \"\"\"re: recovery\n",
    "#     \"\"\"\n",
    "    \n",
    "#     \"\"\"initialize the graph object with the graph (updated_G) remaining post failure\"\"\"\n",
    "#     re_updated_G = copy.deepcopy(updated_G)\n",
    "#     edges_to_add = copy.deepcopy(edge_list)\n",
    "     \n",
    "#     \"\"\"empty list which will capture gc size as the network recovers\"\"\"\n",
    "#     re_gc_list = []\n",
    "#     count = 0\n",
    "#     initial_gc_size = calculate_gc_size(G)\n",
    "    \n",
    "#     if len(nodes_to_remove) == len(node_list):\n",
    "#         re_gc_list.append(0)\n",
    "    \n",
    "#     for node in nodes_to_add:\n",
    "        \n",
    "#         re_updated_G.add_node(node)\n",
    "#         re_updated_G.add_edges_from(list(G.edges(node)))\n",
    "#         re_gc_list.append(calculate_gc_size(re_updated_G))\n",
    "    \n",
    "    \n",
    "#     re_gc_list.append(initial_gc_size)\n",
    "    \n",
    "#     return re_gc_list, re_updated_G, count\n"
   ]
  },
  {
   "cell_type": "code",
   "execution_count": null,
   "metadata": {},
   "outputs": [],
   "source": []
  },
  {
   "cell_type": "code",
   "execution_count": 135,
   "metadata": {},
   "outputs": [],
   "source": [
    "# \"\"\"RECOVERY - FLOODS GEO\"\"\"\n",
    "\n",
    "# re_gc_list_by_floods = []\n",
    "# re_updated_G_list = []\n",
    "\n",
    "# for i in range(100):\n",
    "#     nodes_to_add = sorted_nodes_by_floods[i]\n",
    "#     re_gc_temp, re_updated_G_temp, count = add_nodes(G, updated_G_list[i], nodes_to_add, edge_list)\n",
    "#     re_gc_list_by_floods.append(normalize_gc_list(re_gc_temp))\n",
    "#     re_updated_G_list.append(updated_G_temp)\n",
    "\n",
    "# print(len(re_gc_list_by_floods))\n",
    "# print(len(re_gc_list_by_floods[0]))"
   ]
  },
  {
   "cell_type": "code",
   "execution_count": 136,
   "metadata": {},
   "outputs": [],
   "source": [
    "# \"\"\"RECOVERY - FLOODS GEO (REVERSE ORDER)\"\"\"\n",
    "\n",
    "# re_gc_list_by_floods = []\n",
    "# re_updated_G_list = []\n",
    "\n",
    "# for i in range(n_iter):\n",
    "#     sorted_nodes_by_floods[i].reverse()\n",
    "#     nodes_to_add = sorted_nodes_by_floods[i]\n",
    "#     re_gc_temp, re_updated_G_temp, count = add_nodes(G, updated_G_list[i], nodes_to_add, edge_list)\n",
    "#     re_gc_list_by_floods.append(normalize_gc_list(re_gc_temp))\n",
    "#     re_updated_G_list.append(updated_G_temp)\n",
    "\n",
    "# print(len(re_gc_list_by_floods))\n",
    "# print(len(re_gc_list_by_floods[0]))"
   ]
  },
  {
   "cell_type": "code",
   "execution_count": 137,
   "metadata": {},
   "outputs": [],
   "source": [
    "#len(re_gc_list_by_floods[0])"
   ]
  },
  {
   "cell_type": "code",
   "execution_count": null,
   "metadata": {},
   "outputs": [],
   "source": []
  },
  {
   "cell_type": "code",
   "execution_count": 138,
   "metadata": {},
   "outputs": [],
   "source": [
    "# \"\"\"Calculate Ensemble Mean - Flood Failure\"\"\"\n",
    "\n",
    "# gc_array_by_floods = np.array(gc_list_by_floods)\n",
    "# re_gc_array_by_floods = np.array(re_gc_list_by_floods)\n",
    "\n",
    "\n",
    "# gc_list_by_floods_mean = np.mean(gc_array_by_floods, axis=0)\n",
    "# re_gc_list_by_floods_mean = np.mean(re_gc_array_by_floods, axis=0)\n",
    "\n",
    "# print(len(gc_list_by_floods))\n",
    "# print(len(gc_list_by_floods_mean))"
   ]
  },
  {
   "cell_type": "code",
   "execution_count": null,
   "metadata": {},
   "outputs": [],
   "source": []
  },
  {
   "cell_type": "code",
   "execution_count": 139,
   "metadata": {},
   "outputs": [
    {
     "data": {
      "text/plain": [
       "'/Users/nishant/Desktop/PNNL-2019/December_codes'"
      ]
     },
     "execution_count": 139,
     "metadata": {},
     "output_type": "execute_result"
    }
   ],
   "source": [
    "pwd"
   ]
  },
  {
   "cell_type": "code",
   "execution_count": 140,
   "metadata": {},
   "outputs": [
    {
     "data": {
      "text/plain": [
       "'Save Ensemble Mean (a single list)'"
      ]
     },
     "execution_count": 140,
     "metadata": {},
     "output_type": "execute_result"
    }
   ],
   "source": [
    "\n",
    "\"\"\"Save GC Size List of Lists\"\"\"\n",
    "#np.save('agg_gc_list_by_floods_geo', gc_array_by_floods)\n",
    "#np.save('agg_re_gc_list_by_floods_geo', re_gc_array_by_floods)\n",
    "\n",
    "\"\"\"Save Ensemble Mean (a single list)\"\"\"\n",
    "#np.save('agg_gc_list_by_floods_geo_mean', gc_list_by_floods_mean)\n",
    "#np.save('agg_re_gc_list_by_floods_geo_mean', re_gc_list_by_floods_mean)\n"
   ]
  },
  {
   "cell_type": "code",
   "execution_count": 106,
   "metadata": {},
   "outputs": [
    {
     "data": {
      "text/plain": [
       "'/Users/nishant/Desktop/PNNL-2019/December_codes'"
      ]
     },
     "execution_count": 106,
     "metadata": {},
     "output_type": "execute_result"
    }
   ],
   "source": [
    "pwd"
   ]
  },
  {
   "cell_type": "markdown",
   "metadata": {},
   "source": [
    "## PLOTTING"
   ]
  },
  {
   "cell_type": "code",
   "execution_count": 157,
   "metadata": {},
   "outputs": [
    {
     "name": "stdout",
     "output_type": "stream",
     "text": [
      "66\n"
     ]
    }
   ],
   "source": [
    "\"\"\"fraction of nodes removed on x-axis\"\"\"\n",
    "\n",
    "node_frac = np.arange(len(gc_list_by_floods_targeted[0]))\n",
    "\n",
    "print(len(node_frac))"
   ]
  },
  {
   "cell_type": "code",
   "execution_count": 108,
   "metadata": {},
   "outputs": [],
   "source": [
    "# plt.figure(figsize=(15,10))\n",
    "\n",
    "# for i in range(n_iter):\n",
    "    \n",
    "#     plt.subplot(1,2,1)\n",
    "#     plt.plot(node_frac, gc_list_by_floods[i], label='')\n",
    "    \n",
    "#     plt.ylim(top=1, bottom=0)\n",
    "#     #plt.xlim(left=0, right=1)\n",
    "#     plt.xlabel('No. of Nodes Removed')\n",
    "#     plt.ylabel('Fraction of Initial Giant Component Size')\n",
    "#     plt.title('Failure')\n",
    "#     plt.margins(x=0, y=0)\n",
    "#     #plt.legend()\n",
    "\n",
    "#     plt.subplot(1,2,2)\n",
    "#     plt.plot(node_frac,re_gc_list_by_floods[i], label='')\n",
    "\n",
    "#     #plt.plot(node_frac, node_frac, '--')\n",
    "#     #plt.xlim(left=0)\n",
    "#     plt.ylim(bottom=0, top=1)\n",
    "#     plt.yticks([])\n",
    "#     #plt.xticks([0.2, 0.4, 0.6, 0.8, 1])\n",
    "#     plt.xlabel('No. of Nodes Removed')\n",
    "#     plt.title('Reovery')\n",
    "#     plt.margins(x=0, y=0)\n",
    "#     #plt.legend()\n",
    " \n",
    "\n",
    "# plt.subplots_adjust(wspace=0)\n",
    "# #plt.suptitle('Random Failure (Ensemble N=1000)', y=0.92, fontsize='16')\n",
    "# plt.show()"
   ]
  },
  {
   "cell_type": "code",
   "execution_count": null,
   "metadata": {},
   "outputs": [],
   "source": []
  },
  {
   "cell_type": "code",
   "execution_count": 109,
   "metadata": {},
   "outputs": [],
   "source": [
    "# \"\"\"Plot Ensemble Mean\"\"\"\n",
    "\n",
    "# plt.figure(figsize=(15,10))\n",
    "\n",
    "# plt.subplot(1,2,1)\n",
    "# plt.plot(node_frac, gc_list_by_floods_mean, '-', label='#degree')\n",
    "# plt.ylim(top=1, bottom=0)\n",
    "# #plt.xlim(left=0, right=1)\n",
    "# plt.xlabel('Fraction of nodes added')\n",
    "# plt.ylabel('Fraction of Initial Giant Component Size')\n",
    "# plt.margins(x=0, y=0)\n",
    "# #plt.legend()\n",
    "\n",
    "# plt.subplot(1,2,2)\n",
    "# plt.plot(node_frac,re_gc_list_by_floods_mean, label='#degree')\n",
    "#     #plt.plot(node_frac, node_frac, '--')\n",
    "# #plt.xlim(left=0, right=1)\n",
    "# plt.ylim(bottom=0, top=1)\n",
    "# plt.yticks([])\n",
    "# plt.xticks([0.2, 0.4, 0.6, 0.8, 1])\n",
    "# plt.xlabel('Fraction of nodes added')\n",
    "# plt.margins(x=0, y=0)\n",
    "# #plt.legend()\n",
    "# plt.subplots_adjust(wspace=0)\n",
    "\n",
    "# plt.suptitle('Ensemble Mean - Random Failure and Recovery', y=0.92, fontsize='14')\n",
    "# plt.show()"
   ]
  },
  {
   "cell_type": "code",
   "execution_count": null,
   "metadata": {},
   "outputs": [],
   "source": []
  },
  {
   "cell_type": "code",
   "execution_count": 158,
   "metadata": {},
   "outputs": [
    {
     "data": {
      "image/png": "[encoded data removed]",
      "text/plain": [
       "<Figure size 576x576 with 1 Axes>"
      ]
     },
     "metadata": {
      "needs_background": "light"
     },
     "output_type": "display_data"
    }
   ],
   "source": [
    "\"\"\"FLOOD + TARGETED FAILURE\"\"\"\n",
    "\n",
    "plt.figure(figsize=(8,8))\n",
    "plt.margins(0)\n",
    "plt.ylim(top=1, bottom=0)\n",
    "\n",
    "for i in range(n_iter):\n",
    "    plt.plot(node_frac, gc_list_by_floods_targeted[i])\n",
    "    \n",
    "    "
   ]
  },
  {
   "cell_type": "code",
   "execution_count": 173,
   "metadata": {},
   "outputs": [
    {
     "data": {
      "text/plain": [
       "(0, 1)"
      ]
     },
     "execution_count": 173,
     "metadata": {},
     "output_type": "execute_result"
    },
    {
     "data": {
      "image/png": "[encoded data removed]",
      "text/plain": [
       "<Figure size 576x576 with 1 Axes>"
      ]
     },
     "metadata": {
      "needs_background": "light"
     },
     "output_type": "display_data"
    }
   ],
   "source": [
    "plt.figure(figsize=(8,8))\n",
    "plt.plot(node_frac, gc_list_by_floods_targeted_mean)\n",
    "plt.plot(gc_list_by_floods_targeted_mean[:12], '--')\n",
    "plt.margins(0)\n",
    "plt.ylim(top=1, bottom=0)"
   ]
  },
  {
   "cell_type": "code",
   "execution_count": null,
   "metadata": {},
   "outputs": [],
   "source": []
  },
  {
   "cell_type": "code",
   "execution_count": 60,
   "metadata": {},
   "outputs": [
    {
     "data": {
      "text/plain": [
       "'/Users/nishant/Desktop/PNNL-2019/December_codes'"
      ]
     },
     "execution_count": 60,
     "metadata": {},
     "output_type": "execute_result"
    }
   ],
   "source": [
    "pwd"
   ]
  },
  {
   "cell_type": "code",
   "execution_count": null,
   "metadata": {},
   "outputs": [],
   "source": []
  },
  {
   "cell_type": "code",
   "execution_count": 184,
   "metadata": {},
   "outputs": [],
   "source": [
    "np.save('gc_list_by_pure_floods', gc_list_by_floods_targeted)\n",
    "np.save('gc_list_by_pure_floods_mean', gc_list_by_floods_targeted_mean)"
   ]
  },
  {
   "cell_type": "code",
   "execution_count": null,
   "metadata": {},
   "outputs": [],
   "source": []
  },
  {
   "cell_type": "code",
   "execution_count": null,
   "metadata": {},
   "outputs": [],
   "source": []
  },
  {
   "cell_type": "code",
   "execution_count": null,
   "metadata": {},
   "outputs": [],
   "source": []
  },
  {
   "cell_type": "code",
   "execution_count": null,
   "metadata": {},
   "outputs": [],
   "source": []
  },
  {
   "cell_type": "code",
   "execution_count": null,
   "metadata": {},
   "outputs": [],
   "source": []
  }
 ],
 "metadata": {
  "kernelspec": {
   "display_name": "Python 3",
   "language": "python",
   "name": "python3"
  },
  "language_info": {
   "codemirror_mode": {
    "name": "ipython",
    "version": 3
   },
   "file_extension": ".py",
   "mimetype": "text/x-python",
   "name": "python",
   "nbconvert_exporter": "python",
   "pygments_lexer": "ipython3",
   "version": "3.7.3"
  }
 },
 "nbformat": 4,
 "nbformat_minor": 4
}
