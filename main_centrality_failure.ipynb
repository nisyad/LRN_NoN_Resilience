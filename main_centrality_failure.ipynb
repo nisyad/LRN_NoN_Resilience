{
 "cells": [
  {
   "cell_type": "code",
   "execution_count": 34,
   "metadata": {},
   "outputs": [],
   "source": [
    "import pandas as pd\n",
    "import numpy as np\n",
    "import yaml\n",
    "import copy\n",
    "import matplotlib\n",
    "import matplotlib.pyplot as plt\n",
    "import warnings\n",
    "import random\n",
    "import collections\n",
    "import community\n",
    "warnings.filterwarnings(\"ignore\")\n",
    "matplotlib.use('TkAgg')\n",
    "import networkx as nx\n",
    "%matplotlib inline"
   ]
  },
  {
   "cell_type": "code",
   "execution_count": 35,
   "metadata": {},
   "outputs": [
    {
     "data": {
      "text/plain": [
       "'/Users/nishant/Desktop/PNNL-2019/Topology_Based_Failure'"
      ]
     },
     "execution_count": 35,
     "metadata": {},
     "output_type": "execute_result"
    }
   ],
   "source": [
    "pwd"
   ]
  },
  {
   "cell_type": "code",
   "execution_count": 36,
   "metadata": {},
   "outputs": [],
   "source": [
    "def import_network(path):\n",
    "    \"\"\"\n",
    "    path = path to network data\n",
    "    df = imported network data as a pandas dataframe\n",
    "    \"\"\"\n",
    "    \n",
    "    df = pd.read_csv(path, sep=\" \", \n",
    "                 header=None,\n",
    "                 names=['layer','node1','node2','weight'])\n",
    "    \n",
    "    return df\n",
    "\n",
    "\n",
    "def create_edge_list(df, n_layers):\n",
    "    \n",
    "    edges = []\n",
    "    for i in range(n_layers):\n",
    "        edges.append(list(zip(df[\"node1\"][df.layer==i+1], df[\"node2\"][df.layer==i+1])))\n",
    "    \n",
    "    return edges\n",
    "\n",
    "def create_node_list(df, which_layer):\n",
    "    \n",
    "    temp = list(set(df.node1[df.layer==which_layer]))\n",
    "    temp2 = list(set(df.node2[df.layer==which_layer]))\n",
    "    node_list = list(set(temp+temp2))\n",
    "    \n",
    "    return node_list\n",
    "\n",
    "\n",
    "def calculate_gc_size(graph):\n",
    "    \"\"\"\n",
    "    gc = giant component\n",
    "    \"\"\"\n",
    "    \n",
    "    gc_size = [len(c) for c in sorted(nx.connected_components(graph), key=len, reverse=True)][0]\n",
    "    \n",
    "    return gc_size\n",
    "\n",
    "\n",
    "def normalize_gc_list(gc_list):\n",
    "    \"calculates gc size as a fraction of initial gc\"\n",
    "    \n",
    "    return np.array(gc_list)/max(gc_list)\n"
   ]
  },
  {
   "cell_type": "code",
   "execution_count": 54,
   "metadata": {},
   "outputs": [
    {
     "name": "stdout",
     "output_type": "stream",
     "text": [
      "Layer Analyzed:  1\n"
     ]
    }
   ],
   "source": [
    "if __name__ == \"__main__\":\n",
    "    \n",
    "    config_file = '/Users/nishant/Desktop/PNNL-2019/config.yml'\n",
    "    \n",
    "    with open(config_file, 'r') as f:\n",
    "        config = yaml.safe_load(f)\n",
    "        path = config['path']\n",
    "        n_layers = config['n_layers']\n",
    "        \n",
    "        \n",
    "        \"create the network dataframe\"\n",
    "        df = import_network(path)\n",
    "        \n",
    "        \"\"\"\n",
    "        pick the layer to analyze\n",
    "        \"\"\"\n",
    "        which_layer = config['which_layer']\n",
    "        print('Layer Analyzed: ', which_layer)\n",
    "\n",
    "        \"\"\"\n",
    "        extract edge list (all layers) from the df\n",
    "        \"\"\"\n",
    "        edges = create_edge_list(df, n_layers)\n",
    "        edge_list = edges[which_layer-1] \n",
    "        \n",
    "        \"\"\"\n",
    "        extract node list for the layer to be analyzed\n",
    "        \"\"\"\n",
    "        node_list = create_node_list(df, which_layer)\n",
    "    "
   ]
  },
  {
   "cell_type": "code",
   "execution_count": null,
   "metadata": {},
   "outputs": [],
   "source": []
  },
  {
   "cell_type": "code",
   "execution_count": 38,
   "metadata": {},
   "outputs": [],
   "source": [
    "\"\"\"\n",
    "generate graph from the layer edge list\n",
    "\"\"\"\n",
    "\n",
    "G = nx.Graph()\n",
    "G.add_edges_from(edge_list)\n",
    "\n",
    "#plt.figure(figsize=(20,15))\n",
    "#nx.draw_networkx(G, with_labels=False)"
   ]
  },
  {
   "cell_type": "code",
   "execution_count": 39,
   "metadata": {},
   "outputs": [
    {
     "name": "stdout",
     "output_type": "stream",
     "text": [
      "271\n"
     ]
    }
   ],
   "source": [
    "initial_gc_size = calculate_gc_size(G)\n",
    "print(initial_gc_size)\n"
   ]
  },
  {
   "cell_type": "code",
   "execution_count": 40,
   "metadata": {},
   "outputs": [],
   "source": [
    "\"\"\"SORTED LIST OF NODES TO REMOVE AND ADD BY CENTRALITIES\"\"\"\n",
    "\n",
    "\n",
    "\"\"\"DEGREE\"\"\"\n",
    "sorted_nodes_by_degree = sorted(G.degree, key=lambda x: x[1], reverse=True)\n",
    "sorted_nodes_by_degree = [i[0] for i in sorted_nodes_by_degree]\n",
    "#print(len(sorted_nodes_by_degree))\n",
    "#print('\\n', sorted_nodes_by_degree)\n",
    "\n",
    "\"\"\"BETWEENNESS\"\"\"\n",
    "betweenness_c = nx.betweenness_centrality(G)\n",
    "temp = sorted(betweenness_c.items(), key=lambda kv: kv[1], reverse=True)\n",
    "sorted_nodes_by_betweenness = [i[0] for i in temp]\n",
    "#print(len(sorted_nodes_by_betweenness))\n",
    "#print(sorted_nodes_by_betweenness)\n",
    "\n",
    "\n",
    "\"\"\"EIGENVALUE\"\"\"\n",
    "eigen_c = nx.eigenvector_centrality_numpy(G)\n",
    "temp = sorted(eigen_c.items(), key=lambda kv: kv[1], reverse=True)\n",
    "sorted_nodes_by_eigenc = [i[0] for i in temp]\n",
    "#print(sorted_nodes_by_eigenc)\n",
    "#print('\\n', len(sorted_nodes_by_eigenc))\n",
    "\n",
    "\"\"\"CLOSENESS\"\"\"\n",
    "closeness_c = nx.closeness_centrality(G)\n",
    "temp = sorted(closeness_c.items(), key=lambda kv: kv[1], reverse=True)\n",
    "sorted_nodes_by_closeness = [i[0] for i in temp]\n",
    "#print(sorted_nodes_by_closeness)\n",
    "#print('\\n', len(sorted_nodes_by_closeness))\n",
    "\n"
   ]
  },
  {
   "cell_type": "code",
   "execution_count": 41,
   "metadata": {},
   "outputs": [
    {
     "data": {
      "text/plain": [
       "271"
      ]
     },
     "execution_count": 41,
     "metadata": {},
     "output_type": "execute_result"
    }
   ],
   "source": [
    "\"\"\"ENSEMBLE LIST OF NODES TO REMOVE FOR RANDOM FAILURE\"\"\"\n",
    "\n",
    "node_list = list(G.nodes())\n",
    "node_list_copy = copy.deepcopy(node_list)\n",
    "\n",
    "sorted_nodes_by_random = []\n",
    "\n",
    "for i in range(1000):\n",
    "    sorted_nodes_by_random.append(random.sample(node_list_copy, len(node_list_copy)))\n",
    "\n",
    "len(sorted_nodes_by_random[0])"
   ]
  },
  {
   "cell_type": "code",
   "execution_count": 42,
   "metadata": {},
   "outputs": [],
   "source": [
    "def remove_nodes(G, nodes_to_remove, edge_list):\n",
    "\n",
    "    \"\"\"\n",
    "    nodes_to_remove: list\n",
    "\n",
    "    edge_list: for this layer the orginal list of tuples (edges)\n",
    "                e.g. [(1,77), (4,13)..]\n",
    "\n",
    "    returns list of GC sizes and the graph remaining \n",
    "    \"\"\"\n",
    "\n",
    "    \n",
    "    \"\"\"initialize updated_edges list with original edge_list\"\"\"\n",
    "    updated_edges = copy.deepcopy(edge_list)\n",
    "    \n",
    "    \"\"\"initialize updated_G with orginial graph G\"\"\"\n",
    "    updated_G = copy.deepcopy(G)\n",
    "    initial_gc_size = calculate_gc_size(G)\n",
    "    \n",
    "    \"\"\"empty list which will capture gc size as the network fails\"\"\"\n",
    "    gc_list = []\n",
    "    gc_list.append(initial_gc_size)\n",
    "    count = 0\n",
    "\n",
    "    for node in nodes_to_remove:\n",
    "        \n",
    "        updated_G.remove_edges_from(list(G.edges(node)))\n",
    "        \n",
    "        gc_list.append(calculate_gc_size(updated_G))\n",
    "        updated_G.remove_node(node)\n",
    "    \n",
    "        count +=1\n",
    "    \n",
    "    else:\n",
    "        gc_list.append(0)\n",
    "    \n",
    "    return gc_list, updated_G, count\n"
   ]
  },
  {
   "cell_type": "code",
   "execution_count": 43,
   "metadata": {},
   "outputs": [],
   "source": [
    "\"\"\"FAILURE\"\"\"\n",
    "\n",
    "\"\"\"Degree\"\"\"\n",
    "nodes_to_remove = sorted_nodes_by_degree\n",
    "gc_list_by_degree, updated_G, count = remove_nodes(G, nodes_to_remove, edge_list)\n",
    "gc_list_by_degree = normalize_gc_list(gc_list_by_degree)\n",
    "\n",
    "\"\"\"Betweenness\"\"\"\n",
    "nodes_to_remove = sorted_nodes_by_betweenness\n",
    "gc_list_by_betweenness, updated_G, count = remove_nodes(G, nodes_to_remove, edge_list)\n",
    "gc_list_by_betweenness = normalize_gc_list(gc_list_by_betweenness)\n",
    "\n",
    "\"\"\"Eigenvector\"\"\"\n",
    "nodes_to_remove = sorted_nodes_by_eigenc\n",
    "gc_list_by_eigenc, updated_G, count = remove_nodes(G, nodes_to_remove, edge_list)\n",
    "gc_list_by_eigenc = normalize_gc_list(gc_list_by_eigenc)\n",
    "\n",
    "\"\"\"Closeness\"\"\"\n",
    "nodes_to_remove = sorted_nodes_by_closeness\n",
    "gc_list_by_closeness, updated_G, count = remove_nodes(G, nodes_to_remove, edge_list)\n",
    "gc_list_by_closeness = normalize_gc_list(gc_list_by_closeness)\n"
   ]
  },
  {
   "cell_type": "code",
   "execution_count": 44,
   "metadata": {},
   "outputs": [],
   "source": [
    "\"\"\"RANDOM FAILURE\"\"\"\n",
    "\n",
    "gc_list_by_random = []\n",
    "updated_G_list = []\n",
    "\n",
    "for i in range(10):\n",
    "    nodes_to_remove = sorted_nodes_by_random[i]\n",
    "    gc_temp, updated_G_temp, count = remove_nodes(G, nodes_to_remove, edge_list)\n",
    "    gc_list_by_random.append(normalize_gc_list(gc_temp))\n",
    "    updated_G_list.append(updated_G_temp)\n"
   ]
  },
  {
   "cell_type": "code",
   "execution_count": 47,
   "metadata": {},
   "outputs": [],
   "source": [
    "def add_nodes(G, updated_G, nodes_to_add, edge_list):\n",
    "    \n",
    "    \"\"\"re: recovery\n",
    "    \"\"\"\n",
    "    \n",
    "    \"\"\"initialize the graph object with the graph (updated_G) remaining post failure\"\"\"\n",
    "    re_updated_G = copy.deepcopy(updated_G)\n",
    "    edges_to_add = copy.deepcopy(edge_list)\n",
    "     \n",
    "    \"\"\"empty list which will capture gc size as the network recovers\"\"\"\n",
    "    re_gc_list = []\n",
    "    count = 0\n",
    "    initial_gc_size = calculate_gc_size(G)\n",
    "    \n",
    "    re_gc_list.append(0)\n",
    "    \n",
    "    for node in nodes_to_add:\n",
    "        \n",
    "        re_updated_G.add_node(node)\n",
    "        re_updated_G.add_edges_from(list(G.edges(node)))\n",
    "        re_gc_list.append(calculate_gc_size(re_updated_G))\n",
    "    \n",
    "    \n",
    "    re_gc_list.append(initial_gc_size)\n",
    "    \n",
    "    return re_gc_list, re_updated_G, count\n"
   ]
  },
  {
   "cell_type": "code",
   "execution_count": 48,
   "metadata": {},
   "outputs": [],
   "source": [
    "\"\"\"RECOVERY\"\"\"\n",
    "\n",
    "\"\"\"Degree\"\"\"\n",
    "nodes_to_add = sorted_nodes_by_degree\n",
    "re_gc_list_by_degree, re_updated_G, count = add_nodes(G, updated_G, nodes_to_add, edge_list)\n",
    "re_gc_list_by_degree = normalize_gc_list(re_gc_list_by_degree)\n",
    "\n",
    "\"\"\"Betweenness\"\"\"\n",
    "nodes_to_add = sorted_nodes_by_betweenness\n",
    "re_gc_list_by_betweenness, re_updated_G, count = add_nodes(G, updated_G, nodes_to_add, edge_list)\n",
    "re_gc_list_by_betweenness = normalize_gc_list(re_gc_list_by_betweenness)\n",
    "\n",
    "\"\"\"Eigenvector\"\"\"\n",
    "nodes_to_add = sorted_nodes_by_eigenc\n",
    "re_gc_list_by_eigenc, re_updated_G, count = add_nodes(G, updated_G, nodes_to_add, edge_list)\n",
    "re_gc_list_by_eigenc = normalize_gc_list(re_gc_list_by_eigenc)\n",
    "\n",
    "\"\"\"Closeness\"\"\"\n",
    "nodes_to_add = sorted_nodes_by_closeness\n",
    "re_gc_list_by_closeness, re_updated_G, count = add_nodes(G, updated_G, nodes_to_add, edge_list)\n",
    "re_gc_list_by_closeness = normalize_gc_list(re_gc_list_by_closeness)\n"
   ]
  },
  {
   "cell_type": "code",
   "execution_count": 55,
   "metadata": {},
   "outputs": [],
   "source": [
    "\"\"\"RECOVERY - RANDOM\"\"\"\n",
    "\n",
    "re_gc_list_by_random = []\n",
    "re_updated_G_list = []\n",
    "\n",
    "for i in range(10):\n",
    "    nodes_to_add = sorted_nodes_by_random[i]\n",
    "    re_gc_temp, re_updated_G_temp, count = add_nodes(G, updated_G_list[i], nodes_to_add, edge_list)\n",
    "    re_gc_list_by_random.append(normalize_gc_list(re_gc_temp))\n",
    "    re_updated_G_list.append(updated_G_temp)\n"
   ]
  },
  {
   "cell_type": "code",
   "execution_count": 56,
   "metadata": {},
   "outputs": [],
   "source": [
    "\"\"\"Calculate Ensemble Mean - Random Failure\"\"\"\n",
    "\n",
    "gc_array_by_random = np.array(gc_list_by_random)\n",
    "re_gc_array_by_random = np.array(re_gc_list_by_random)\n",
    "\n",
    "gc_list_by_random_mean = np.mean(gc_array_by_random, axis=0)\n",
    "re_gc_list_by_random_mean = np.mean(re_gc_array_by_random, axis=0)\n"
   ]
  },
  {
   "cell_type": "code",
   "execution_count": 57,
   "metadata": {},
   "outputs": [
    {
     "data": {
      "text/plain": [
       "'Save Ensemble Mean (a single list)'"
      ]
     },
     "execution_count": 57,
     "metadata": {},
     "output_type": "execute_result"
    }
   ],
   "source": [
    "\"\"\"SAVE FILES (RANDOM)\"\"\"\n",
    "\n",
    "\"\"\"Save GC size List of Lists\"\"\"\n",
    "# np.save('l2_gc_list_by_random', gc_list_by_random)\n",
    "# np.save('l2_re_gc_list_by_random', re_gc_list_by_random)\n",
    "\n",
    "\"\"\"Save Ensemble Mean (a single list)\"\"\"\n",
    "\n",
    "#np.save('l3_gc_list_by_random', gc_list_by_random_mean)\n",
    "#np.save('l3_re_gc_list_by_random', re_gc_list_by_random_mean)\n"
   ]
  },
  {
   "cell_type": "code",
   "execution_count": 58,
   "metadata": {},
   "outputs": [
    {
     "data": {
      "text/plain": [
       "'SAVE FILES (CENTRALITIES)'"
      ]
     },
     "execution_count": 58,
     "metadata": {},
     "output_type": "execute_result"
    }
   ],
   "source": [
    "\"\"\"SAVE FILES (CENTRALITIES)\"\"\"\n",
    "\n",
    "# np.save('l2_gc_list_by_degree', gc_list_by_degree)\n",
    "# np.save('l2_re_gc_list_by_degree', re_gc_list_by_degree)\n",
    "\n",
    "# np.save('l2_gc_list_by_betweenness', gc_list_by_betweenness)\n",
    "# np.save('l2_re_gc_list_by_betweenness', re_gc_list_by_betweenness)\n",
    "\n",
    "# np.save('l2_gc_list_by_eigenc', gc_list_by_eigenc)\n",
    "# np.save('l2_re_gc_list_by_eigenc', re_gc_list_by_eigenc)\n",
    "\n",
    "# np.save('l2_gc_list_by_closeness', gc_list_by_closeness)\n",
    "# np.save('l2_re_gc_list_by_closeness', re_gc_list_by_closeness)\n"
   ]
  },
  {
   "cell_type": "code",
   "execution_count": null,
   "metadata": {},
   "outputs": [],
   "source": []
  },
  {
   "cell_type": "code",
   "execution_count": 62,
   "metadata": {},
   "outputs": [
    {
     "name": "stdout",
     "output_type": "stream",
     "text": [
      "273\n"
     ]
    }
   ],
   "source": [
    "\"\"\"Calculate Node Fraction for X-axis\"\"\"\n",
    "\n",
    "node_frac = np.arange(len(gc_list_by_degree))/(len(gc_list_by_degree)-1)\n",
    "node_frac = np.arange(len(gc_list_by_random[0]))/(len(gc_list_by_random[0])-1)\n",
    "#node_frac = np.arange(len(gc_list_by_floods[0]))/(len(gc_list_by_floods[0])-1)\n",
    "\n",
    "print(len(node_frac))"
   ]
  },
  {
   "cell_type": "code",
   "execution_count": 52,
   "metadata": {},
   "outputs": [
    {
     "data": {
      "image/png": "[encoded data removed]",
      "text/plain": [
       "<Figure size 1080x720 with 2 Axes>"
      ]
     },
     "metadata": {
      "needs_background": "light"
     },
     "output_type": "display_data"
    }
   ],
   "source": [
    "\"\"\"PLOTTING\"\"\"\n",
    "\n",
    "plt.figure(figsize=(15,10))\n",
    "plt.subplot(1,2,1)\n",
    "plt.plot(node_frac, gc_list_by_degree, '-', label='#betweenness')\n",
    "plt.ylim(top=1, bottom=0)\n",
    "plt.xlim(left=0, right=1)\n",
    "plt.legend()\n",
    "\n",
    "plt.subplot(1,2,2)\n",
    "plt.plot(node_frac,re_gc_list_by_degree, label='#betweenness')\n",
    "plt.plot(node_frac, node_frac, '--')\n",
    "plt.xlim(left=0, right=1)\n",
    "plt.ylim(bottom=0, top=1)\n",
    "plt.yticks([])\n",
    "plt.xticks([0.2, 0.4, 0.6, 0.8, 1])\n",
    "plt.legend()\n",
    "\n",
    "plt.subplots_adjust(wspace=0)\n",
    "plt.suptitle('INSERT TITLE', y=0.92, fontsize='14')\n",
    "plt.show()"
   ]
  },
  {
   "cell_type": "code",
   "execution_count": null,
   "metadata": {},
   "outputs": [],
   "source": []
  },
  {
   "cell_type": "code",
   "execution_count": null,
   "metadata": {},
   "outputs": [],
   "source": [
    "degree_sequence = sorted([d for n, d in G.degree()], reverse=True)  # degree sequence\n",
    "# print \"Degree sequence\", degree_sequence\n",
    "degreeCount = collections.Counter(degree_sequence)\n",
    "deg, cnt = zip(*degreeCount.items())\n",
    "\n",
    "fig, ax = plt.subplots()\n",
    "plt.bar(deg, cnt, width=0.90, color='b')\n",
    "\n",
    "plt.title(\"Degree Histogram\")\n",
    "plt.ylabel(\"Count\")\n",
    "plt.xlabel(\"Degree\")\n",
    "ax.set_xticks([d + 0.4 for d in deg])\n",
    "ax.set_xticklabels(deg)"
   ]
  },
  {
   "cell_type": "code",
   "execution_count": null,
   "metadata": {},
   "outputs": [],
   "source": [
    "\"\"\"\n",
    "def plot_degree_distribution (G) :\n",
    "    degs = {}\n",
    "    \n",
    "    for n in G.nodes () :\n",
    "        deg = G.degree (n)\n",
    "        if deg not in degs :\n",
    "            degs[deg] = 0\n",
    "        degs[deg] += 1\n",
    "    items = sorted (degs.items ())\n",
    "    \n",
    "    \n",
    "    fig = plt.figure ()\n",
    "    ax = fig.add_subplot (111)\n",
    "    ax.plot([k for (k , v ) in items ],[v for (k, v) in items], 'o')\n",
    "    ax.set_xscale('log')\n",
    "    ax.set_yscale('log')\n",
    "    plt.title (\"London Underground (Layer 1) Degree Distribution\")\n",
    "    #fig . savefig ( \" degree_distribution . png \" )\n",
    "    \n",
    "\"\"\";"
   ]
  },
  {
   "cell_type": "code",
   "execution_count": null,
   "metadata": {},
   "outputs": [],
   "source": [
    "#PLOTTING DEGREE vs OTHER CENTRALITY MEASURES"
   ]
  },
  {
   "cell_type": "code",
   "execution_count": null,
   "metadata": {},
   "outputs": [],
   "source": [
    "degree_list = list(G.degree())\n",
    "degree_df = pd.DataFrame(degree_list, columns=['node', 'degree'])\n",
    "degree_df.head()"
   ]
  },
  {
   "cell_type": "code",
   "execution_count": null,
   "metadata": {},
   "outputs": [],
   "source": [
    "betweenness_list = nx.betweenness_centrality(G)\n",
    "betweenness_df = pd.DataFrame(betweenness_list.items(), columns=['node', 'betweenness'])\n",
    "betweenness_df.head()"
   ]
  },
  {
   "cell_type": "code",
   "execution_count": null,
   "metadata": {},
   "outputs": [],
   "source": [
    "closeness_list = nx.closeness_centrality(G)\n",
    "closeness_df = pd.DataFrame(closeness_list.items(), columns=['node', 'closeness'])\n",
    "closeness_df.head()"
   ]
  },
  {
   "cell_type": "code",
   "execution_count": null,
   "metadata": {},
   "outputs": [],
   "source": [
    "eigen_list = eigen_c\n",
    "#eigen_list = nx.eigenvector_centrality(G)\n",
    "eigen_df = pd.DataFrame(eigen_list.items(), columns=['node', 'eigen'])\n",
    "eigen_df.head()"
   ]
  },
  {
   "cell_type": "code",
   "execution_count": null,
   "metadata": {},
   "outputs": [],
   "source": [
    "clus_list = nx.clustering(G)\n",
    "clus_df = pd.DataFrame(clus_list.items(), columns=['node', 'clus'])\n"
   ]
  },
  {
   "cell_type": "code",
   "execution_count": null,
   "metadata": {},
   "outputs": [],
   "source": [
    "deg_betw_df = pd.merge(degree_df, betweenness_df, on='node')\n",
    "deg_close_df = pd.merge(degree_df, closeness_df, on='node')\n",
    "deg_eigen_df = pd.merge(degree_df, eigen_df, on='node')\n",
    "deg_clus_df = pd.merge(degree_df, clus_df, on='node')"
   ]
  },
  {
   "cell_type": "code",
   "execution_count": null,
   "metadata": {},
   "outputs": [],
   "source": [
    "plt.figure(figsize=(15,15))\n",
    "\n",
    "plt.subplot(2,2,1)\n",
    "plt.scatter(np.array(deg_betw_df.degree), np.array(deg_betw_df.betweenness))\n",
    "plt.title('Degree vs Betweenness Centrality')\n",
    "plt.xlabel('Degree')\n",
    "plt.ylabel('Betweenness Centrality')\n",
    "\n",
    "plt.subplot(2,2,2)\n",
    "plt.scatter(np.array(deg_close_df.degree), np.array(deg_close_df.closeness))\n",
    "plt.title('Degree vs Closeness Centrality')\n",
    "plt.xlabel('Degree')\n",
    "plt.ylabel('Closeness Centrality')\n",
    "\n",
    "plt.subplot(2,2,3)\n",
    "plt.scatter(np.array(deg_close_df.degree), np.array(deg_close_df.closeness))\n",
    "plt.title('Degree vs Eigenvector Centrality')\n",
    "plt.xlabel('Degree')\n",
    "plt.ylabel('Eigenvector Centrality')\n",
    "\n",
    "plt.subplot(2,2,4)\n",
    "plt.scatter(np.array(deg_clus_df.degree), np.array(deg_clus_df.clus))\n",
    "plt.title('Degree vs Clustering Coefficient')\n",
    "plt.xlabel('Degree')\n",
    "plt.ylabel('Clustering')\n",
    "\n",
    "plt.suptitle('Layer 3 (DLR) // N_Nodes=45', y=0.94, fontsize=14)\n",
    "plt.savefig('Layer_3_Degree_vs_Plot.pdf', format='pdf', dpi=1200)\n",
    "plt.show()"
   ]
  },
  {
   "cell_type": "code",
   "execution_count": null,
   "metadata": {},
   "outputs": [],
   "source": []
  },
  {
   "cell_type": "code",
   "execution_count": null,
   "metadata": {},
   "outputs": [],
   "source": []
  },
  {
   "cell_type": "code",
   "execution_count": null,
   "metadata": {},
   "outputs": [],
   "source": []
  }
 ],
 "metadata": {
  "kernelspec": {
   "display_name": "Python 3",
   "language": "python",
   "name": "python3"
  },
  "language_info": {
   "codemirror_mode": {
    "name": "ipython",
    "version": 3
   },
   "file_extension": ".py",
   "mimetype": "text/x-python",
   "name": "python",
   "nbconvert_exporter": "python",
   "pygments_lexer": "ipython3",
   "version": "3.7.3"
  }
 },
 "nbformat": 4,
 "nbformat_minor": 4
}
